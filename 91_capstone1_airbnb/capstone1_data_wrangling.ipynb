{
 "cells": [
  {
   "cell_type": "markdown",
   "metadata": {},
   "source": [
    "### This notebook is about data wrangling for 1st capstone project, the goal is to predict airbnb listing price at Austin, TX. The dataset was taken from insideairbnb.com (http://insideairbnb.com/get-the-data.html)"
   ]
  },
  {
   "cell_type": "code",
   "execution_count": 1,
   "metadata": {
    "_cell_guid": "b1076dfc-b9ad-4769-8c92-a6c4dae69d19",
    "_uuid": "8f2839f25d086af736a60e9eeb907d3b93b6e0e5"
   },
   "outputs": [
    {
     "name": "stdout",
     "output_type": "stream",
     "text": [
      "./111capstone1_data_wrangling.ipynb\n",
      "./capstone1_data_story.ipynb\n",
      "./capstone1_data_wrangling.ipynb\n",
      "./listings.csv\n",
      "./listings_clean.csv\n",
      "./neighbourhoods.geojson\n",
      "./Zipcodes.geojson\n",
      "./.ipynb_checkpoints\\capstone1_data_story-checkpoint.ipynb\n",
      "./.ipynb_checkpoints\\capstone1_data_wrangling-checkpoint.ipynb\n"
     ]
    }
   ],
   "source": [
    "import numpy as np\n",
    "import pandas as pd\n",
    "import matplotlib.pyplot as plt\n",
    "\n",
    "import os\n",
    "for dirname, _, filenames in os.walk('./'):\n",
    "    for filename in filenames:\n",
    "        print(os.path.join(dirname, filename)) "
   ]
  },
  {
   "cell_type": "code",
   "execution_count": 2,
   "metadata": {
    "_cell_guid": "79c7e3d0-c299-4dcb-8224-4455121ee9b0",
    "_uuid": "d629ff2d2480ee46fbb7e2d37f6b5fab8052498a"
   },
   "outputs": [
    {
     "name": "stderr",
     "output_type": "stream",
     "text": [
      "C:\\Users\\Hao\\Anaconda3\\lib\\site-packages\\IPython\\core\\interactiveshell.py:3058: DtypeWarning: Columns (43,61,62) have mixed types. Specify dtype option on import or set low_memory=False.\n",
      "  interactivity=interactivity, compiler=compiler, result=result)\n"
     ]
    },
    {
     "data": {
      "text/plain": [
       "(11250, 106)"
      ]
     },
     "execution_count": 2,
     "metadata": {},
     "output_type": "execute_result"
    }
   ],
   "source": [
    "listings_df = pd.read_csv('./listings.csv')\n",
    "listings_df.shape"
   ]
  },
  {
   "cell_type": "markdown",
   "metadata": {},
   "source": [
    "#### So there are 11250 entries and 106 features in total. \n",
    "#### First, we will take a look at the features mostly are NA and drop them"
   ]
  },
  {
   "cell_type": "code",
   "execution_count": 3,
   "metadata": {},
   "outputs": [
    {
     "data": {
      "text/plain": [
       "neighbourhood_group_cleansed    11250\n",
       "host_acceptance_rate            11250\n",
       "thumbnail_url                   11250\n",
       "medium_url                      11250\n",
       "xl_picture_url                  11250\n",
       "license                         11217\n",
       "square_feet                     11046\n",
       "monthly_price                   10473\n",
       "weekly_price                    10318\n",
       "notes                            5971\n",
       "access                           4554\n",
       "transit                          4233\n",
       "host_about                       3932\n",
       "interaction                      3769\n",
       "neighborhood_overview            3714\n",
       "dtype: int64"
      ]
     },
     "execution_count": 3,
     "metadata": {},
     "output_type": "execute_result"
    }
   ],
   "source": [
    "listings_df.isnull().sum().sort_values(ascending = False).head(15)"
   ]
  },
  {
   "cell_type": "markdown",
   "metadata": {},
   "source": [
    "We can drop the features with > 10000 NA values, namely following features<br>\n",
    "\n",
    "    neighbourhood_group_cleansed    11250\n",
    "    host_acceptance_rate            11250\n",
    "    thumbnail_url                   11250\n",
    "    medium_url                      11250\n",
    "    xl_picture_url                  11250\n",
    "    license                         11217\n",
    "    square_feet                     11046\n",
    "    monthly_price                   10473\n",
    "    weekly_price                    10318"
   ]
  },
  {
   "cell_type": "code",
   "execution_count": 4,
   "metadata": {},
   "outputs": [
    {
     "data": {
      "text/plain": [
       "(11250, 97)"
      ]
     },
     "execution_count": 4,
     "metadata": {},
     "output_type": "execute_result"
    }
   ],
   "source": [
    "listings_df.dropna(axis=1, thresh = 1000, inplace=True)\n",
    "listings_df.shape"
   ]
  },
  {
   "cell_type": "markdown",
   "metadata": {},
   "source": [
    "#### Next let's check if there is any feature that contains all the same values, we can discard it since it is not useful"
   ]
  },
  {
   "cell_type": "code",
   "execution_count": 5,
   "metadata": {},
   "outputs": [
    {
     "data": {
      "text/plain": [
       "[('scrape_id', 1),\n",
       " ('last_scraped', 1),\n",
       " ('experiences_offered', 1),\n",
       " ('country_code', 1),\n",
       " ('country', 1),\n",
       " ('has_availability', 1),\n",
       " ('calendar_last_scraped', 1),\n",
       " ('requires_license', 1),\n",
       " ('jurisdiction_names', 1),\n",
       " ('is_business_travel_ready', 1),\n",
       " ('host_is_superhost', 2),\n",
       " ('host_has_profile_pic', 2),\n",
       " ('host_identity_verified', 2),\n",
       " ('market', 2),\n",
       " ('is_location_exact', 2)]"
      ]
     },
     "execution_count": 5,
     "metadata": {},
     "output_type": "execute_result"
    }
   ],
   "source": [
    "feature_value_counts = [(i,len(listings_df[i].value_counts())) for i in listings_df.columns]\n",
    "feature_value_counts.sort(key= lambda x:  x[1])\n",
    "feature_value_counts[:15]"
   ]
  },
  {
   "cell_type": "markdown",
   "metadata": {},
   "source": [
    " So we can remove following features which contains same value across all rows\n",
    "\n",
    "     ('scrape_id', 1),\n",
    "     ('last_scraped', 1),\n",
    "     ('experiences_offered', 1),\n",
    "     ('country_code', 1),\n",
    "     ('country', 1),\n",
    "     ('has_availability', 1),\n",
    "     ('calendar_last_scraped', 1),\n",
    "     ('requires_license', 1),\n",
    "     ('jurisdiction_names', 1),\n",
    "     ('is_business_travel_ready', 1)"
   ]
  },
  {
   "cell_type": "code",
   "execution_count": 6,
   "metadata": {},
   "outputs": [
    {
     "data": {
      "text/plain": [
       "(11250, 87)"
      ]
     },
     "execution_count": 6,
     "metadata": {},
     "output_type": "execute_result"
    }
   ],
   "source": [
    "for i in listings_df.columns:\n",
    "    if len(listings_df[i].value_counts()) == 1:\n",
    "        listings_df.drop(i,inplace=True,axis=1)\n",
    "listings_df.shape"
   ]
  },
  {
   "cell_type": "markdown",
   "metadata": {},
   "source": [
    "#### Next, we will check what each column is about and decide which ones are related for our analysis (predict Airbnb listing price)\n",
    "\n",
    "Let's list all features"
   ]
  },
  {
   "cell_type": "code",
   "execution_count": 7,
   "metadata": {},
   "outputs": [
    {
     "data": {
      "text/plain": [
       "[(0, 'id'),\n",
       " (1, 'listing_url'),\n",
       " (2, 'name'),\n",
       " (3, 'summary'),\n",
       " (4, 'space'),\n",
       " (5, 'description'),\n",
       " (6, 'neighborhood_overview'),\n",
       " (7, 'notes'),\n",
       " (8, 'transit'),\n",
       " (9, 'access'),\n",
       " (10, 'interaction'),\n",
       " (11, 'house_rules'),\n",
       " (12, 'picture_url'),\n",
       " (13, 'host_id'),\n",
       " (14, 'host_url'),\n",
       " (15, 'host_name'),\n",
       " (16, 'host_since'),\n",
       " (17, 'host_location'),\n",
       " (18, 'host_about'),\n",
       " (19, 'host_response_time'),\n",
       " (20, 'host_response_rate'),\n",
       " (21, 'host_is_superhost'),\n",
       " (22, 'host_thumbnail_url'),\n",
       " (23, 'host_picture_url'),\n",
       " (24, 'host_neighbourhood'),\n",
       " (25, 'host_listings_count'),\n",
       " (26, 'host_total_listings_count'),\n",
       " (27, 'host_verifications'),\n",
       " (28, 'host_has_profile_pic'),\n",
       " (29, 'host_identity_verified'),\n",
       " (30, 'street'),\n",
       " (31, 'neighbourhood'),\n",
       " (32, 'neighbourhood_cleansed'),\n",
       " (33, 'city'),\n",
       " (34, 'state'),\n",
       " (35, 'zipcode'),\n",
       " (36, 'market'),\n",
       " (37, 'smart_location'),\n",
       " (38, 'latitude'),\n",
       " (39, 'longitude'),\n",
       " (40, 'is_location_exact'),\n",
       " (41, 'property_type'),\n",
       " (42, 'room_type'),\n",
       " (43, 'accommodates'),\n",
       " (44, 'bathrooms'),\n",
       " (45, 'bedrooms'),\n",
       " (46, 'beds'),\n",
       " (47, 'bed_type'),\n",
       " (48, 'amenities'),\n",
       " (49, 'price'),\n",
       " (50, 'security_deposit'),\n",
       " (51, 'cleaning_fee'),\n",
       " (52, 'guests_included'),\n",
       " (53, 'extra_people'),\n",
       " (54, 'minimum_nights'),\n",
       " (55, 'maximum_nights'),\n",
       " (56, 'minimum_minimum_nights'),\n",
       " (57, 'maximum_minimum_nights'),\n",
       " (58, 'minimum_maximum_nights'),\n",
       " (59, 'maximum_maximum_nights'),\n",
       " (60, 'minimum_nights_avg_ntm'),\n",
       " (61, 'maximum_nights_avg_ntm'),\n",
       " (62, 'calendar_updated'),\n",
       " (63, 'availability_30'),\n",
       " (64, 'availability_60'),\n",
       " (65, 'availability_90'),\n",
       " (66, 'availability_365'),\n",
       " (67, 'number_of_reviews'),\n",
       " (68, 'number_of_reviews_ltm'),\n",
       " (69, 'first_review'),\n",
       " (70, 'last_review'),\n",
       " (71, 'review_scores_rating'),\n",
       " (72, 'review_scores_accuracy'),\n",
       " (73, 'review_scores_cleanliness'),\n",
       " (74, 'review_scores_checkin'),\n",
       " (75, 'review_scores_communication'),\n",
       " (76, 'review_scores_location'),\n",
       " (77, 'review_scores_value'),\n",
       " (78, 'instant_bookable'),\n",
       " (79, 'cancellation_policy'),\n",
       " (80, 'require_guest_profile_picture'),\n",
       " (81, 'require_guest_phone_verification'),\n",
       " (82, 'calculated_host_listings_count'),\n",
       " (83, 'calculated_host_listings_count_entire_homes'),\n",
       " (84, 'calculated_host_listings_count_private_rooms'),\n",
       " (85, 'calculated_host_listings_count_shared_rooms'),\n",
       " (86, 'reviews_per_month')]"
      ]
     },
     "execution_count": 7,
     "metadata": {},
     "output_type": "execute_result"
    }
   ],
   "source": [
    "[i for i in enumerate(listings_df.columns)]"
   ]
  },
  {
   "cell_type": "markdown",
   "metadata": {},
   "source": [
    "#### Features can be divided into subgroups\n",
    "1) general features about the listing (0 to 12)\n",
    "\n",
    "2) features about host (13 to 29)\n",
    "    \n",
    "3) features about property location (30 to 40)\n",
    "\n",
    "4) features about property conditions (41 to 48)\n",
    "\n",
    "5) features about property prices/stays (49 to 61)\n",
    "\n",
    "6) features about property reviews (62 to 77)\n",
    "\n",
    "7) other features (78 to end)\n",
    "\n",
    "#### We will examine these features and decide which ones to keep"
   ]
  },
  {
   "cell_type": "code",
   "execution_count": 8,
   "metadata": {},
   "outputs": [
    {
     "data": {
      "text/html": [
       "<div>\n",
       "<style scoped>\n",
       "    .dataframe tbody tr th:only-of-type {\n",
       "        vertical-align: middle;\n",
       "    }\n",
       "\n",
       "    .dataframe tbody tr th {\n",
       "        vertical-align: top;\n",
       "    }\n",
       "\n",
       "    .dataframe thead th {\n",
       "        text-align: right;\n",
       "    }\n",
       "</style>\n",
       "<table border=\"1\" class=\"dataframe\">\n",
       "  <thead>\n",
       "    <tr style=\"text-align: right;\">\n",
       "      <th></th>\n",
       "      <th>id</th>\n",
       "      <th>listing_url</th>\n",
       "      <th>name</th>\n",
       "      <th>summary</th>\n",
       "      <th>space</th>\n",
       "      <th>description</th>\n",
       "      <th>neighborhood_overview</th>\n",
       "      <th>notes</th>\n",
       "      <th>transit</th>\n",
       "      <th>access</th>\n",
       "      <th>interaction</th>\n",
       "      <th>house_rules</th>\n",
       "      <th>picture_url</th>\n",
       "    </tr>\n",
       "  </thead>\n",
       "  <tbody>\n",
       "    <tr>\n",
       "      <td>0</td>\n",
       "      <td>2265</td>\n",
       "      <td>https://www.airbnb.com/rooms/2265</td>\n",
       "      <td>Zen-East in the Heart of Austin (monthly rental)</td>\n",
       "      <td>Zen East is situated in a vibrant &amp; diverse mu...</td>\n",
       "      <td>This colorful and clean 1923 house was complet...</td>\n",
       "      <td>Zen East is situated in a vibrant &amp; diverse mu...</td>\n",
       "      <td>NaN</td>\n",
       "      <td>A 2013 Genuine Buddy Scooter 125 may be availa...</td>\n",
       "      <td>5 min walk to Capitol Metro Rail (train that t...</td>\n",
       "      <td>Several local restaurants, small clubs, music ...</td>\n",
       "      <td>Depending on your dates and arrival time, I am...</td>\n",
       "      <td>• Check-in time is 4 pm. Check out is 11 am. I...</td>\n",
       "      <td>https://a0.muscache.com/im/pictures/4740524/63...</td>\n",
       "    </tr>\n",
       "    <tr>\n",
       "      <td>1</td>\n",
       "      <td>5245</td>\n",
       "      <td>https://www.airbnb.com/rooms/5245</td>\n",
       "      <td>Eco friendly, Colorful, Clean, Cozy monthly share</td>\n",
       "      <td>Situated in a vibrant &amp; diverse multicultural ...</td>\n",
       "      <td>This green, colorful, clean and cozy house was...</td>\n",
       "      <td>Situated in a vibrant &amp; diverse multicultural ...</td>\n",
       "      <td>NaN</td>\n",
       "      <td>Please note: A two story studio was built in t...</td>\n",
       "      <td>NaN</td>\n",
       "      <td>NaN</td>\n",
       "      <td>I should be available, upon your arrival, to a...</td>\n",
       "      <td>A brief profile for all guests along with phot...</td>\n",
       "      <td>https://a0.muscache.com/im/pictures/5167505/b3...</td>\n",
       "    </tr>\n",
       "    <tr>\n",
       "      <td>2</td>\n",
       "      <td>5456</td>\n",
       "      <td>https://www.airbnb.com/rooms/5456</td>\n",
       "      <td>Walk to 6th, Rainey St and Convention Ctr</td>\n",
       "      <td>Great central  location for walking to Convent...</td>\n",
       "      <td>Cute Private Studio apartment located in Willo...</td>\n",
       "      <td>Great central  location for walking to Convent...</td>\n",
       "      <td>My neighborhood is ideally located if you want...</td>\n",
       "      <td>Parking on street requires a permit.  Permits ...</td>\n",
       "      <td>Bus stop around the block.  Uber, Lyft, Ride, ...</td>\n",
       "      <td>Guests have access to patio.</td>\n",
       "      <td>I am happy to welcome my guests and show them in.</td>\n",
       "      <td>No Pets allowed.  No smoking in the room. No m...</td>\n",
       "      <td>https://a0.muscache.com/im/pictures/14084884/b...</td>\n",
       "    </tr>\n",
       "    <tr>\n",
       "      <td>3</td>\n",
       "      <td>5769</td>\n",
       "      <td>https://www.airbnb.com/rooms/5769</td>\n",
       "      <td>NW Austin Room</td>\n",
       "      <td>NaN</td>\n",
       "      <td>Looking for a comfortable inexpensive room to ...</td>\n",
       "      <td>Looking for a comfortable inexpensive room to ...</td>\n",
       "      <td>Quiet neighborhood with lots of trees and good...</td>\n",
       "      <td>NaN</td>\n",
       "      <td>We are approximately 16 miles from downtown Au...</td>\n",
       "      <td>Gravel Parking Kitchen</td>\n",
       "      <td>We interact with our guests as little or as mu...</td>\n",
       "      <td>I will need to see identification at check in....</td>\n",
       "      <td>https://a0.muscache.com/im/pictures/23822033/a...</td>\n",
       "    </tr>\n",
       "  </tbody>\n",
       "</table>\n",
       "</div>"
      ],
      "text/plain": [
       "     id                        listing_url  \\\n",
       "0  2265  https://www.airbnb.com/rooms/2265   \n",
       "1  5245  https://www.airbnb.com/rooms/5245   \n",
       "2  5456  https://www.airbnb.com/rooms/5456   \n",
       "3  5769  https://www.airbnb.com/rooms/5769   \n",
       "\n",
       "                                                name  \\\n",
       "0   Zen-East in the Heart of Austin (monthly rental)   \n",
       "1  Eco friendly, Colorful, Clean, Cozy monthly share   \n",
       "2          Walk to 6th, Rainey St and Convention Ctr   \n",
       "3                                     NW Austin Room   \n",
       "\n",
       "                                             summary  \\\n",
       "0  Zen East is situated in a vibrant & diverse mu...   \n",
       "1  Situated in a vibrant & diverse multicultural ...   \n",
       "2  Great central  location for walking to Convent...   \n",
       "3                                                NaN   \n",
       "\n",
       "                                               space  \\\n",
       "0  This colorful and clean 1923 house was complet...   \n",
       "1  This green, colorful, clean and cozy house was...   \n",
       "2  Cute Private Studio apartment located in Willo...   \n",
       "3  Looking for a comfortable inexpensive room to ...   \n",
       "\n",
       "                                         description  \\\n",
       "0  Zen East is situated in a vibrant & diverse mu...   \n",
       "1  Situated in a vibrant & diverse multicultural ...   \n",
       "2  Great central  location for walking to Convent...   \n",
       "3  Looking for a comfortable inexpensive room to ...   \n",
       "\n",
       "                               neighborhood_overview  \\\n",
       "0                                                NaN   \n",
       "1                                                NaN   \n",
       "2  My neighborhood is ideally located if you want...   \n",
       "3  Quiet neighborhood with lots of trees and good...   \n",
       "\n",
       "                                               notes  \\\n",
       "0  A 2013 Genuine Buddy Scooter 125 may be availa...   \n",
       "1  Please note: A two story studio was built in t...   \n",
       "2  Parking on street requires a permit.  Permits ...   \n",
       "3                                                NaN   \n",
       "\n",
       "                                             transit  \\\n",
       "0  5 min walk to Capitol Metro Rail (train that t...   \n",
       "1                                                NaN   \n",
       "2  Bus stop around the block.  Uber, Lyft, Ride, ...   \n",
       "3  We are approximately 16 miles from downtown Au...   \n",
       "\n",
       "                                              access  \\\n",
       "0  Several local restaurants, small clubs, music ...   \n",
       "1                                                NaN   \n",
       "2                       Guests have access to patio.   \n",
       "3                             Gravel Parking Kitchen   \n",
       "\n",
       "                                         interaction  \\\n",
       "0  Depending on your dates and arrival time, I am...   \n",
       "1  I should be available, upon your arrival, to a...   \n",
       "2  I am happy to welcome my guests and show them in.   \n",
       "3  We interact with our guests as little or as mu...   \n",
       "\n",
       "                                         house_rules  \\\n",
       "0  • Check-in time is 4 pm. Check out is 11 am. I...   \n",
       "1  A brief profile for all guests along with phot...   \n",
       "2  No Pets allowed.  No smoking in the room. No m...   \n",
       "3  I will need to see identification at check in....   \n",
       "\n",
       "                                         picture_url  \n",
       "0  https://a0.muscache.com/im/pictures/4740524/63...  \n",
       "1  https://a0.muscache.com/im/pictures/5167505/b3...  \n",
       "2  https://a0.muscache.com/im/pictures/14084884/b...  \n",
       "3  https://a0.muscache.com/im/pictures/23822033/a...  "
      ]
     },
     "execution_count": 8,
     "metadata": {},
     "output_type": "execute_result"
    }
   ],
   "source": [
    "features_to_keep = []\n",
    "listings_df.iloc[:4,:13]"
   ]
  },
  {
   "cell_type": "code",
   "execution_count": 9,
   "metadata": {},
   "outputs": [],
   "source": [
    "features_to_keep.extend(['id'])"
   ]
  },
  {
   "cell_type": "markdown",
   "metadata": {},
   "source": [
    "We will only keep id, which uniquely identifies the listing property. Other features are either not useful (url) or requires NLP analysis and are out of scope for this analysis (name, summary, description)"
   ]
  },
  {
   "cell_type": "code",
   "execution_count": 10,
   "metadata": {},
   "outputs": [
    {
     "data": {
      "text/html": [
       "<div>\n",
       "<style scoped>\n",
       "    .dataframe tbody tr th:only-of-type {\n",
       "        vertical-align: middle;\n",
       "    }\n",
       "\n",
       "    .dataframe tbody tr th {\n",
       "        vertical-align: top;\n",
       "    }\n",
       "\n",
       "    .dataframe thead th {\n",
       "        text-align: right;\n",
       "    }\n",
       "</style>\n",
       "<table border=\"1\" class=\"dataframe\">\n",
       "  <thead>\n",
       "    <tr style=\"text-align: right;\">\n",
       "      <th></th>\n",
       "      <th>host_id</th>\n",
       "      <th>host_url</th>\n",
       "      <th>host_name</th>\n",
       "      <th>host_since</th>\n",
       "      <th>host_location</th>\n",
       "      <th>host_about</th>\n",
       "      <th>host_response_time</th>\n",
       "      <th>host_response_rate</th>\n",
       "      <th>host_is_superhost</th>\n",
       "      <th>host_thumbnail_url</th>\n",
       "      <th>host_picture_url</th>\n",
       "      <th>host_neighbourhood</th>\n",
       "      <th>host_listings_count</th>\n",
       "      <th>host_total_listings_count</th>\n",
       "      <th>host_verifications</th>\n",
       "      <th>host_has_profile_pic</th>\n",
       "      <th>host_identity_verified</th>\n",
       "    </tr>\n",
       "  </thead>\n",
       "  <tbody>\n",
       "    <tr>\n",
       "      <td>0</td>\n",
       "      <td>2466</td>\n",
       "      <td>https://www.airbnb.com/users/show/2466</td>\n",
       "      <td>Paddy</td>\n",
       "      <td>2008-08-23</td>\n",
       "      <td>Austin, Texas, United States</td>\n",
       "      <td>I am a long time resident of Austin. I earned ...</td>\n",
       "      <td>within a few hours</td>\n",
       "      <td>100%</td>\n",
       "      <td>t</td>\n",
       "      <td>https://a0.muscache.com/im/users/2466/profile_...</td>\n",
       "      <td>https://a0.muscache.com/im/users/2466/profile_...</td>\n",
       "      <td>East Downtown</td>\n",
       "      <td>3.0</td>\n",
       "      <td>3.0</td>\n",
       "      <td>['email', 'phone', 'facebook', 'reviews', 'kba']</td>\n",
       "      <td>t</td>\n",
       "      <td>t</td>\n",
       "    </tr>\n",
       "    <tr>\n",
       "      <td>1</td>\n",
       "      <td>2466</td>\n",
       "      <td>https://www.airbnb.com/users/show/2466</td>\n",
       "      <td>Paddy</td>\n",
       "      <td>2008-08-23</td>\n",
       "      <td>Austin, Texas, United States</td>\n",
       "      <td>I am a long time resident of Austin. I earned ...</td>\n",
       "      <td>within a few hours</td>\n",
       "      <td>100%</td>\n",
       "      <td>t</td>\n",
       "      <td>https://a0.muscache.com/im/users/2466/profile_...</td>\n",
       "      <td>https://a0.muscache.com/im/users/2466/profile_...</td>\n",
       "      <td>East Downtown</td>\n",
       "      <td>3.0</td>\n",
       "      <td>3.0</td>\n",
       "      <td>['email', 'phone', 'facebook', 'reviews', 'kba']</td>\n",
       "      <td>t</td>\n",
       "      <td>t</td>\n",
       "    </tr>\n",
       "    <tr>\n",
       "      <td>2</td>\n",
       "      <td>8028</td>\n",
       "      <td>https://www.airbnb.com/users/show/8028</td>\n",
       "      <td>Sylvia</td>\n",
       "      <td>2009-02-16</td>\n",
       "      <td>Austin, Texas, United States</td>\n",
       "      <td>I am a licensed Real Estate Broker and owner o...</td>\n",
       "      <td>within a few hours</td>\n",
       "      <td>100%</td>\n",
       "      <td>t</td>\n",
       "      <td>https://a0.muscache.com/im/users/8028/profile_...</td>\n",
       "      <td>https://a0.muscache.com/im/users/8028/profile_...</td>\n",
       "      <td>East Downtown</td>\n",
       "      <td>1.0</td>\n",
       "      <td>1.0</td>\n",
       "      <td>['email', 'phone', 'reviews', 'kba']</td>\n",
       "      <td>t</td>\n",
       "      <td>t</td>\n",
       "    </tr>\n",
       "    <tr>\n",
       "      <td>3</td>\n",
       "      <td>8186</td>\n",
       "      <td>https://www.airbnb.com/users/show/8186</td>\n",
       "      <td>Elizabeth</td>\n",
       "      <td>2009-02-19</td>\n",
       "      <td>Austin, Texas, United States</td>\n",
       "      <td>We're easygoing professionals that enjoy meeti...</td>\n",
       "      <td>within an hour</td>\n",
       "      <td>100%</td>\n",
       "      <td>t</td>\n",
       "      <td>https://a0.muscache.com/im/users/8186/profile_...</td>\n",
       "      <td>https://a0.muscache.com/im/users/8186/profile_...</td>\n",
       "      <td>SW Williamson Co.</td>\n",
       "      <td>1.0</td>\n",
       "      <td>1.0</td>\n",
       "      <td>['email', 'phone', 'reviews', 'jumio', 'govern...</td>\n",
       "      <td>t</td>\n",
       "      <td>t</td>\n",
       "    </tr>\n",
       "  </tbody>\n",
       "</table>\n",
       "</div>"
      ],
      "text/plain": [
       "   host_id                                host_url  host_name  host_since  \\\n",
       "0     2466  https://www.airbnb.com/users/show/2466      Paddy  2008-08-23   \n",
       "1     2466  https://www.airbnb.com/users/show/2466      Paddy  2008-08-23   \n",
       "2     8028  https://www.airbnb.com/users/show/8028     Sylvia  2009-02-16   \n",
       "3     8186  https://www.airbnb.com/users/show/8186  Elizabeth  2009-02-19   \n",
       "\n",
       "                  host_location  \\\n",
       "0  Austin, Texas, United States   \n",
       "1  Austin, Texas, United States   \n",
       "2  Austin, Texas, United States   \n",
       "3  Austin, Texas, United States   \n",
       "\n",
       "                                          host_about  host_response_time  \\\n",
       "0  I am a long time resident of Austin. I earned ...  within a few hours   \n",
       "1  I am a long time resident of Austin. I earned ...  within a few hours   \n",
       "2  I am a licensed Real Estate Broker and owner o...  within a few hours   \n",
       "3  We're easygoing professionals that enjoy meeti...      within an hour   \n",
       "\n",
       "  host_response_rate host_is_superhost  \\\n",
       "0               100%                 t   \n",
       "1               100%                 t   \n",
       "2               100%                 t   \n",
       "3               100%                 t   \n",
       "\n",
       "                                  host_thumbnail_url  \\\n",
       "0  https://a0.muscache.com/im/users/2466/profile_...   \n",
       "1  https://a0.muscache.com/im/users/2466/profile_...   \n",
       "2  https://a0.muscache.com/im/users/8028/profile_...   \n",
       "3  https://a0.muscache.com/im/users/8186/profile_...   \n",
       "\n",
       "                                    host_picture_url host_neighbourhood  \\\n",
       "0  https://a0.muscache.com/im/users/2466/profile_...      East Downtown   \n",
       "1  https://a0.muscache.com/im/users/2466/profile_...      East Downtown   \n",
       "2  https://a0.muscache.com/im/users/8028/profile_...      East Downtown   \n",
       "3  https://a0.muscache.com/im/users/8186/profile_...  SW Williamson Co.   \n",
       "\n",
       "   host_listings_count  host_total_listings_count  \\\n",
       "0                  3.0                        3.0   \n",
       "1                  3.0                        3.0   \n",
       "2                  1.0                        1.0   \n",
       "3                  1.0                        1.0   \n",
       "\n",
       "                                  host_verifications host_has_profile_pic  \\\n",
       "0   ['email', 'phone', 'facebook', 'reviews', 'kba']                    t   \n",
       "1   ['email', 'phone', 'facebook', 'reviews', 'kba']                    t   \n",
       "2               ['email', 'phone', 'reviews', 'kba']                    t   \n",
       "3  ['email', 'phone', 'reviews', 'jumio', 'govern...                    t   \n",
       "\n",
       "  host_identity_verified  \n",
       "0                      t  \n",
       "1                      t  \n",
       "2                      t  \n",
       "3                      t  "
      ]
     },
     "execution_count": 10,
     "metadata": {},
     "output_type": "execute_result"
    }
   ],
   "source": [
    "listings_df.iloc[:4,13:30]"
   ]
  },
  {
   "cell_type": "code",
   "execution_count": 11,
   "metadata": {},
   "outputs": [],
   "source": [
    "features_to_keep.extend(['host_id','host_since','host_response_time','host_response_rate','host_is_superhost','host_verifications','host_identity_verified'])"
   ]
  },
  {
   "cell_type": "markdown",
   "metadata": {},
   "source": [
    "We will keep host_id, host_since, response_time, host_response_rate, host_is_superhost, host_verifications."
   ]
  },
  {
   "cell_type": "code",
   "execution_count": 12,
   "metadata": {},
   "outputs": [
    {
     "data": {
      "text/html": [
       "<div>\n",
       "<style scoped>\n",
       "    .dataframe tbody tr th:only-of-type {\n",
       "        vertical-align: middle;\n",
       "    }\n",
       "\n",
       "    .dataframe tbody tr th {\n",
       "        vertical-align: top;\n",
       "    }\n",
       "\n",
       "    .dataframe thead th {\n",
       "        text-align: right;\n",
       "    }\n",
       "</style>\n",
       "<table border=\"1\" class=\"dataframe\">\n",
       "  <thead>\n",
       "    <tr style=\"text-align: right;\">\n",
       "      <th></th>\n",
       "      <th>street</th>\n",
       "      <th>neighbourhood</th>\n",
       "      <th>neighbourhood_cleansed</th>\n",
       "      <th>city</th>\n",
       "      <th>state</th>\n",
       "      <th>zipcode</th>\n",
       "      <th>market</th>\n",
       "      <th>smart_location</th>\n",
       "      <th>latitude</th>\n",
       "      <th>longitude</th>\n",
       "      <th>is_location_exact</th>\n",
       "    </tr>\n",
       "  </thead>\n",
       "  <tbody>\n",
       "    <tr>\n",
       "      <td>0</td>\n",
       "      <td>Austin, TX, United States</td>\n",
       "      <td>East Downtown</td>\n",
       "      <td>78702</td>\n",
       "      <td>Austin</td>\n",
       "      <td>TX</td>\n",
       "      <td>78702</td>\n",
       "      <td>Austin</td>\n",
       "      <td>Austin, TX</td>\n",
       "      <td>30.27750</td>\n",
       "      <td>-97.71398</td>\n",
       "      <td>f</td>\n",
       "    </tr>\n",
       "    <tr>\n",
       "      <td>1</td>\n",
       "      <td>Austin, TX, United States</td>\n",
       "      <td>East Downtown</td>\n",
       "      <td>78702</td>\n",
       "      <td>Austin</td>\n",
       "      <td>TX</td>\n",
       "      <td>78702</td>\n",
       "      <td>Austin</td>\n",
       "      <td>Austin, TX</td>\n",
       "      <td>30.27577</td>\n",
       "      <td>-97.71379</td>\n",
       "      <td>t</td>\n",
       "    </tr>\n",
       "    <tr>\n",
       "      <td>2</td>\n",
       "      <td>Austin, TX, United States</td>\n",
       "      <td>East Downtown</td>\n",
       "      <td>78702</td>\n",
       "      <td>Austin</td>\n",
       "      <td>TX</td>\n",
       "      <td>78702</td>\n",
       "      <td>Austin</td>\n",
       "      <td>Austin, TX</td>\n",
       "      <td>30.26112</td>\n",
       "      <td>-97.73448</td>\n",
       "      <td>t</td>\n",
       "    </tr>\n",
       "    <tr>\n",
       "      <td>3</td>\n",
       "      <td>Austin, TX, United States</td>\n",
       "      <td>SW Williamson Co.</td>\n",
       "      <td>78729</td>\n",
       "      <td>Austin</td>\n",
       "      <td>TX</td>\n",
       "      <td>78729</td>\n",
       "      <td>Austin</td>\n",
       "      <td>Austin, TX</td>\n",
       "      <td>30.45596</td>\n",
       "      <td>-97.78370</td>\n",
       "      <td>t</td>\n",
       "    </tr>\n",
       "  </tbody>\n",
       "</table>\n",
       "</div>"
      ],
      "text/plain": [
       "                      street      neighbourhood  neighbourhood_cleansed  \\\n",
       "0  Austin, TX, United States      East Downtown                   78702   \n",
       "1  Austin, TX, United States      East Downtown                   78702   \n",
       "2  Austin, TX, United States      East Downtown                   78702   \n",
       "3  Austin, TX, United States  SW Williamson Co.                   78729   \n",
       "\n",
       "     city state zipcode  market smart_location  latitude  longitude  \\\n",
       "0  Austin    TX   78702  Austin     Austin, TX  30.27750  -97.71398   \n",
       "1  Austin    TX   78702  Austin     Austin, TX  30.27577  -97.71379   \n",
       "2  Austin    TX   78702  Austin     Austin, TX  30.26112  -97.73448   \n",
       "3  Austin    TX   78729  Austin     Austin, TX  30.45596  -97.78370   \n",
       "\n",
       "  is_location_exact  \n",
       "0                 f  \n",
       "1                 t  \n",
       "2                 t  \n",
       "3                 t  "
      ]
     },
     "execution_count": 12,
     "metadata": {},
     "output_type": "execute_result"
    }
   ],
   "source": [
    "listings_df.iloc[:4,30:41]"
   ]
  },
  {
   "cell_type": "code",
   "execution_count": 13,
   "metadata": {},
   "outputs": [],
   "source": [
    "features_to_keep.extend(['zipcode','latitude','longitude'])"
   ]
  },
  {
   "cell_type": "markdown",
   "metadata": {},
   "source": [
    "We will keep zipcode, latitude, longitude. Since this study is about Austin, TX, the city, state, market are not very useful. The location can be uniquely determined by latitude and longtitude as well as zipcode"
   ]
  },
  {
   "cell_type": "code",
   "execution_count": 14,
   "metadata": {},
   "outputs": [
    {
     "data": {
      "text/html": [
       "<div>\n",
       "<style scoped>\n",
       "    .dataframe tbody tr th:only-of-type {\n",
       "        vertical-align: middle;\n",
       "    }\n",
       "\n",
       "    .dataframe tbody tr th {\n",
       "        vertical-align: top;\n",
       "    }\n",
       "\n",
       "    .dataframe thead th {\n",
       "        text-align: right;\n",
       "    }\n",
       "</style>\n",
       "<table border=\"1\" class=\"dataframe\">\n",
       "  <thead>\n",
       "    <tr style=\"text-align: right;\">\n",
       "      <th></th>\n",
       "      <th>property_type</th>\n",
       "      <th>room_type</th>\n",
       "      <th>accommodates</th>\n",
       "      <th>bathrooms</th>\n",
       "      <th>bedrooms</th>\n",
       "      <th>beds</th>\n",
       "      <th>bed_type</th>\n",
       "      <th>amenities</th>\n",
       "    </tr>\n",
       "  </thead>\n",
       "  <tbody>\n",
       "    <tr>\n",
       "      <td>0</td>\n",
       "      <td>House</td>\n",
       "      <td>Entire home/apt</td>\n",
       "      <td>4</td>\n",
       "      <td>2.0</td>\n",
       "      <td>2.0</td>\n",
       "      <td>2.0</td>\n",
       "      <td>Real Bed</td>\n",
       "      <td>{TV,\"Cable TV\",Internet,Wifi,\"Air conditioning...</td>\n",
       "    </tr>\n",
       "    <tr>\n",
       "      <td>1</td>\n",
       "      <td>House</td>\n",
       "      <td>Private room</td>\n",
       "      <td>2</td>\n",
       "      <td>1.0</td>\n",
       "      <td>1.0</td>\n",
       "      <td>2.0</td>\n",
       "      <td>Real Bed</td>\n",
       "      <td>{TV,\"Cable TV\",Internet,Wifi,\"Air conditioning...</td>\n",
       "    </tr>\n",
       "    <tr>\n",
       "      <td>2</td>\n",
       "      <td>Guesthouse</td>\n",
       "      <td>Entire home/apt</td>\n",
       "      <td>3</td>\n",
       "      <td>1.0</td>\n",
       "      <td>1.0</td>\n",
       "      <td>2.0</td>\n",
       "      <td>Real Bed</td>\n",
       "      <td>{TV,Wifi,\"Air conditioning\",Kitchen,\"Pets live...</td>\n",
       "    </tr>\n",
       "    <tr>\n",
       "      <td>3</td>\n",
       "      <td>House</td>\n",
       "      <td>Private room</td>\n",
       "      <td>2</td>\n",
       "      <td>1.0</td>\n",
       "      <td>1.0</td>\n",
       "      <td>1.0</td>\n",
       "      <td>Real Bed</td>\n",
       "      <td>{TV,\"Cable TV\",Internet,Wifi,\"Air conditioning...</td>\n",
       "    </tr>\n",
       "  </tbody>\n",
       "</table>\n",
       "</div>"
      ],
      "text/plain": [
       "  property_type        room_type  accommodates  bathrooms  bedrooms  beds  \\\n",
       "0         House  Entire home/apt             4        2.0       2.0   2.0   \n",
       "1         House     Private room             2        1.0       1.0   2.0   \n",
       "2    Guesthouse  Entire home/apt             3        1.0       1.0   2.0   \n",
       "3         House     Private room             2        1.0       1.0   1.0   \n",
       "\n",
       "   bed_type                                          amenities  \n",
       "0  Real Bed  {TV,\"Cable TV\",Internet,Wifi,\"Air conditioning...  \n",
       "1  Real Bed  {TV,\"Cable TV\",Internet,Wifi,\"Air conditioning...  \n",
       "2  Real Bed  {TV,Wifi,\"Air conditioning\",Kitchen,\"Pets live...  \n",
       "3  Real Bed  {TV,\"Cable TV\",Internet,Wifi,\"Air conditioning...  "
      ]
     },
     "execution_count": 14,
     "metadata": {},
     "output_type": "execute_result"
    }
   ],
   "source": [
    "listings_df.iloc[:4,41:49]"
   ]
  },
  {
   "cell_type": "code",
   "execution_count": 15,
   "metadata": {},
   "outputs": [],
   "source": [
    "features_to_keep.extend(['property_type','room_type','accommodates','bathrooms','bedrooms','beds','bed_type','amenities'])"
   ]
  },
  {
   "cell_type": "markdown",
   "metadata": {},
   "source": [
    "We will keep all columns "
   ]
  },
  {
   "cell_type": "code",
   "execution_count": 16,
   "metadata": {},
   "outputs": [
    {
     "data": {
      "text/html": [
       "<div>\n",
       "<style scoped>\n",
       "    .dataframe tbody tr th:only-of-type {\n",
       "        vertical-align: middle;\n",
       "    }\n",
       "\n",
       "    .dataframe tbody tr th {\n",
       "        vertical-align: top;\n",
       "    }\n",
       "\n",
       "    .dataframe thead th {\n",
       "        text-align: right;\n",
       "    }\n",
       "</style>\n",
       "<table border=\"1\" class=\"dataframe\">\n",
       "  <thead>\n",
       "    <tr style=\"text-align: right;\">\n",
       "      <th></th>\n",
       "      <th>price</th>\n",
       "      <th>security_deposit</th>\n",
       "      <th>cleaning_fee</th>\n",
       "      <th>guests_included</th>\n",
       "      <th>extra_people</th>\n",
       "      <th>minimum_nights</th>\n",
       "      <th>maximum_nights</th>\n",
       "      <th>minimum_minimum_nights</th>\n",
       "      <th>maximum_minimum_nights</th>\n",
       "      <th>minimum_maximum_nights</th>\n",
       "      <th>maximum_maximum_nights</th>\n",
       "      <th>minimum_nights_avg_ntm</th>\n",
       "      <th>maximum_nights_avg_ntm</th>\n",
       "    </tr>\n",
       "  </thead>\n",
       "  <tbody>\n",
       "    <tr>\n",
       "      <td>0</td>\n",
       "      <td>$225.00</td>\n",
       "      <td>$500.00</td>\n",
       "      <td>$100.00</td>\n",
       "      <td>4</td>\n",
       "      <td>$30.00</td>\n",
       "      <td>30</td>\n",
       "      <td>90</td>\n",
       "      <td>30</td>\n",
       "      <td>30</td>\n",
       "      <td>90</td>\n",
       "      <td>90</td>\n",
       "      <td>30.0</td>\n",
       "      <td>90.0</td>\n",
       "    </tr>\n",
       "    <tr>\n",
       "      <td>1</td>\n",
       "      <td>$100.00</td>\n",
       "      <td>$500.00</td>\n",
       "      <td>$75.00</td>\n",
       "      <td>2</td>\n",
       "      <td>$35.00</td>\n",
       "      <td>30</td>\n",
       "      <td>60</td>\n",
       "      <td>30</td>\n",
       "      <td>30</td>\n",
       "      <td>60</td>\n",
       "      <td>60</td>\n",
       "      <td>30.0</td>\n",
       "      <td>60.0</td>\n",
       "    </tr>\n",
       "    <tr>\n",
       "      <td>2</td>\n",
       "      <td>$95.00</td>\n",
       "      <td>$100.00</td>\n",
       "      <td>NaN</td>\n",
       "      <td>2</td>\n",
       "      <td>$45.00</td>\n",
       "      <td>2</td>\n",
       "      <td>90</td>\n",
       "      <td>2</td>\n",
       "      <td>2</td>\n",
       "      <td>90</td>\n",
       "      <td>90</td>\n",
       "      <td>2.0</td>\n",
       "      <td>90.0</td>\n",
       "    </tr>\n",
       "    <tr>\n",
       "      <td>3</td>\n",
       "      <td>$40.00</td>\n",
       "      <td>NaN</td>\n",
       "      <td>NaN</td>\n",
       "      <td>2</td>\n",
       "      <td>$0.00</td>\n",
       "      <td>1</td>\n",
       "      <td>14</td>\n",
       "      <td>1</td>\n",
       "      <td>1</td>\n",
       "      <td>14</td>\n",
       "      <td>14</td>\n",
       "      <td>1.0</td>\n",
       "      <td>14.0</td>\n",
       "    </tr>\n",
       "  </tbody>\n",
       "</table>\n",
       "</div>"
      ],
      "text/plain": [
       "     price security_deposit cleaning_fee  guests_included extra_people  \\\n",
       "0  $225.00          $500.00      $100.00                4       $30.00   \n",
       "1  $100.00          $500.00       $75.00                2       $35.00   \n",
       "2   $95.00          $100.00          NaN                2       $45.00   \n",
       "3   $40.00              NaN          NaN                2        $0.00   \n",
       "\n",
       "   minimum_nights  maximum_nights  minimum_minimum_nights  \\\n",
       "0              30              90                      30   \n",
       "1              30              60                      30   \n",
       "2               2              90                       2   \n",
       "3               1              14                       1   \n",
       "\n",
       "   maximum_minimum_nights  minimum_maximum_nights  maximum_maximum_nights  \\\n",
       "0                      30                      90                      90   \n",
       "1                      30                      60                      60   \n",
       "2                       2                      90                      90   \n",
       "3                       1                      14                      14   \n",
       "\n",
       "   minimum_nights_avg_ntm  maximum_nights_avg_ntm  \n",
       "0                    30.0                    90.0  \n",
       "1                    30.0                    60.0  \n",
       "2                     2.0                    90.0  \n",
       "3                     1.0                    14.0  "
      ]
     },
     "execution_count": 16,
     "metadata": {},
     "output_type": "execute_result"
    }
   ],
   "source": [
    "listings_df.iloc[:4,49:62]"
   ]
  },
  {
   "cell_type": "code",
   "execution_count": 17,
   "metadata": {},
   "outputs": [],
   "source": [
    "features_to_keep.extend(['price','security_deposit','cleaning_fee','guests_included'])"
   ]
  },
  {
   "cell_type": "markdown",
   "metadata": {},
   "source": [
    "We will keep all price, guests_included"
   ]
  },
  {
   "cell_type": "code",
   "execution_count": 18,
   "metadata": {},
   "outputs": [
    {
     "data": {
      "text/html": [
       "<div>\n",
       "<style scoped>\n",
       "    .dataframe tbody tr th:only-of-type {\n",
       "        vertical-align: middle;\n",
       "    }\n",
       "\n",
       "    .dataframe tbody tr th {\n",
       "        vertical-align: top;\n",
       "    }\n",
       "\n",
       "    .dataframe thead th {\n",
       "        text-align: right;\n",
       "    }\n",
       "</style>\n",
       "<table border=\"1\" class=\"dataframe\">\n",
       "  <thead>\n",
       "    <tr style=\"text-align: right;\">\n",
       "      <th></th>\n",
       "      <th>calendar_updated</th>\n",
       "      <th>availability_30</th>\n",
       "      <th>availability_60</th>\n",
       "      <th>availability_90</th>\n",
       "      <th>availability_365</th>\n",
       "      <th>number_of_reviews</th>\n",
       "      <th>number_of_reviews_ltm</th>\n",
       "      <th>first_review</th>\n",
       "      <th>last_review</th>\n",
       "      <th>review_scores_rating</th>\n",
       "      <th>review_scores_accuracy</th>\n",
       "      <th>review_scores_cleanliness</th>\n",
       "      <th>review_scores_checkin</th>\n",
       "      <th>review_scores_communication</th>\n",
       "      <th>review_scores_location</th>\n",
       "      <th>review_scores_value</th>\n",
       "    </tr>\n",
       "  </thead>\n",
       "  <tbody>\n",
       "    <tr>\n",
       "      <td>0</td>\n",
       "      <td>3 months ago</td>\n",
       "      <td>0</td>\n",
       "      <td>0</td>\n",
       "      <td>0</td>\n",
       "      <td>0</td>\n",
       "      <td>24</td>\n",
       "      <td>1</td>\n",
       "      <td>2009-03-17</td>\n",
       "      <td>2019-03-16</td>\n",
       "      <td>93.0</td>\n",
       "      <td>9.0</td>\n",
       "      <td>10.0</td>\n",
       "      <td>10.0</td>\n",
       "      <td>10.0</td>\n",
       "      <td>8.0</td>\n",
       "      <td>9.0</td>\n",
       "    </tr>\n",
       "    <tr>\n",
       "      <td>1</td>\n",
       "      <td>5 months ago</td>\n",
       "      <td>0</td>\n",
       "      <td>0</td>\n",
       "      <td>0</td>\n",
       "      <td>0</td>\n",
       "      <td>9</td>\n",
       "      <td>0</td>\n",
       "      <td>2009-03-19</td>\n",
       "      <td>2018-03-14</td>\n",
       "      <td>91.0</td>\n",
       "      <td>10.0</td>\n",
       "      <td>8.0</td>\n",
       "      <td>10.0</td>\n",
       "      <td>9.0</td>\n",
       "      <td>10.0</td>\n",
       "      <td>9.0</td>\n",
       "    </tr>\n",
       "    <tr>\n",
       "      <td>2</td>\n",
       "      <td>6 days ago</td>\n",
       "      <td>10</td>\n",
       "      <td>24</td>\n",
       "      <td>54</td>\n",
       "      <td>304</td>\n",
       "      <td>508</td>\n",
       "      <td>47</td>\n",
       "      <td>2009-03-08</td>\n",
       "      <td>2019-10-28</td>\n",
       "      <td>96.0</td>\n",
       "      <td>10.0</td>\n",
       "      <td>10.0</td>\n",
       "      <td>10.0</td>\n",
       "      <td>10.0</td>\n",
       "      <td>10.0</td>\n",
       "      <td>10.0</td>\n",
       "    </tr>\n",
       "    <tr>\n",
       "      <td>3</td>\n",
       "      <td>2 days ago</td>\n",
       "      <td>0</td>\n",
       "      <td>3</td>\n",
       "      <td>13</td>\n",
       "      <td>13</td>\n",
       "      <td>257</td>\n",
       "      <td>19</td>\n",
       "      <td>2010-04-10</td>\n",
       "      <td>2019-11-03</td>\n",
       "      <td>98.0</td>\n",
       "      <td>10.0</td>\n",
       "      <td>10.0</td>\n",
       "      <td>10.0</td>\n",
       "      <td>10.0</td>\n",
       "      <td>10.0</td>\n",
       "      <td>10.0</td>\n",
       "    </tr>\n",
       "  </tbody>\n",
       "</table>\n",
       "</div>"
      ],
      "text/plain": [
       "  calendar_updated  availability_30  availability_60  availability_90  \\\n",
       "0     3 months ago                0                0                0   \n",
       "1     5 months ago                0                0                0   \n",
       "2       6 days ago               10               24               54   \n",
       "3       2 days ago                0                3               13   \n",
       "\n",
       "   availability_365  number_of_reviews  number_of_reviews_ltm first_review  \\\n",
       "0                 0                 24                      1   2009-03-17   \n",
       "1                 0                  9                      0   2009-03-19   \n",
       "2               304                508                     47   2009-03-08   \n",
       "3                13                257                     19   2010-04-10   \n",
       "\n",
       "  last_review  review_scores_rating  review_scores_accuracy  \\\n",
       "0  2019-03-16                  93.0                     9.0   \n",
       "1  2018-03-14                  91.0                    10.0   \n",
       "2  2019-10-28                  96.0                    10.0   \n",
       "3  2019-11-03                  98.0                    10.0   \n",
       "\n",
       "   review_scores_cleanliness  review_scores_checkin  \\\n",
       "0                       10.0                   10.0   \n",
       "1                        8.0                   10.0   \n",
       "2                       10.0                   10.0   \n",
       "3                       10.0                   10.0   \n",
       "\n",
       "   review_scores_communication  review_scores_location  review_scores_value  \n",
       "0                         10.0                     8.0                  9.0  \n",
       "1                          9.0                    10.0                  9.0  \n",
       "2                         10.0                    10.0                 10.0  \n",
       "3                         10.0                    10.0                 10.0  "
      ]
     },
     "execution_count": 18,
     "metadata": {},
     "output_type": "execute_result"
    }
   ],
   "source": [
    "listings_df.iloc[:4,62:78]"
   ]
  },
  {
   "cell_type": "code",
   "execution_count": 19,
   "metadata": {},
   "outputs": [],
   "source": [
    "features_to_keep.extend(['number_of_reviews','availability_30','availability_60','availability_90','availability_365','review_scores_rating','review_scores_accuracy','review_scores_cleanliness','review_scores_checkin','review_scores_communication','review_scores_location','review_scores_value'])"
   ]
  },
  {
   "cell_type": "markdown",
   "metadata": {},
   "source": [
    "We will keep number_of_reviews and all review_scores"
   ]
  },
  {
   "cell_type": "code",
   "execution_count": 20,
   "metadata": {},
   "outputs": [
    {
     "data": {
      "text/html": [
       "<div>\n",
       "<style scoped>\n",
       "    .dataframe tbody tr th:only-of-type {\n",
       "        vertical-align: middle;\n",
       "    }\n",
       "\n",
       "    .dataframe tbody tr th {\n",
       "        vertical-align: top;\n",
       "    }\n",
       "\n",
       "    .dataframe thead th {\n",
       "        text-align: right;\n",
       "    }\n",
       "</style>\n",
       "<table border=\"1\" class=\"dataframe\">\n",
       "  <thead>\n",
       "    <tr style=\"text-align: right;\">\n",
       "      <th></th>\n",
       "      <th>instant_bookable</th>\n",
       "      <th>cancellation_policy</th>\n",
       "      <th>require_guest_profile_picture</th>\n",
       "      <th>require_guest_phone_verification</th>\n",
       "      <th>calculated_host_listings_count</th>\n",
       "      <th>calculated_host_listings_count_entire_homes</th>\n",
       "      <th>calculated_host_listings_count_private_rooms</th>\n",
       "      <th>calculated_host_listings_count_shared_rooms</th>\n",
       "      <th>reviews_per_month</th>\n",
       "    </tr>\n",
       "  </thead>\n",
       "  <tbody>\n",
       "    <tr>\n",
       "      <td>0</td>\n",
       "      <td>f</td>\n",
       "      <td>strict_14_with_grace_period</td>\n",
       "      <td>f</td>\n",
       "      <td>f</td>\n",
       "      <td>3</td>\n",
       "      <td>2</td>\n",
       "      <td>1</td>\n",
       "      <td>0</td>\n",
       "      <td>0.18</td>\n",
       "    </tr>\n",
       "    <tr>\n",
       "      <td>1</td>\n",
       "      <td>f</td>\n",
       "      <td>strict_14_with_grace_period</td>\n",
       "      <td>f</td>\n",
       "      <td>f</td>\n",
       "      <td>3</td>\n",
       "      <td>2</td>\n",
       "      <td>1</td>\n",
       "      <td>0</td>\n",
       "      <td>0.07</td>\n",
       "    </tr>\n",
       "    <tr>\n",
       "      <td>2</td>\n",
       "      <td>f</td>\n",
       "      <td>strict_14_with_grace_period</td>\n",
       "      <td>f</td>\n",
       "      <td>t</td>\n",
       "      <td>1</td>\n",
       "      <td>1</td>\n",
       "      <td>0</td>\n",
       "      <td>0</td>\n",
       "      <td>3.90</td>\n",
       "    </tr>\n",
       "    <tr>\n",
       "      <td>3</td>\n",
       "      <td>f</td>\n",
       "      <td>moderate</td>\n",
       "      <td>t</td>\n",
       "      <td>t</td>\n",
       "      <td>1</td>\n",
       "      <td>0</td>\n",
       "      <td>1</td>\n",
       "      <td>0</td>\n",
       "      <td>2.20</td>\n",
       "    </tr>\n",
       "  </tbody>\n",
       "</table>\n",
       "</div>"
      ],
      "text/plain": [
       "  instant_bookable          cancellation_policy require_guest_profile_picture  \\\n",
       "0                f  strict_14_with_grace_period                             f   \n",
       "1                f  strict_14_with_grace_period                             f   \n",
       "2                f  strict_14_with_grace_period                             f   \n",
       "3                f                     moderate                             t   \n",
       "\n",
       "  require_guest_phone_verification  calculated_host_listings_count  \\\n",
       "0                                f                               3   \n",
       "1                                f                               3   \n",
       "2                                t                               1   \n",
       "3                                t                               1   \n",
       "\n",
       "   calculated_host_listings_count_entire_homes  \\\n",
       "0                                            2   \n",
       "1                                            2   \n",
       "2                                            1   \n",
       "3                                            0   \n",
       "\n",
       "   calculated_host_listings_count_private_rooms  \\\n",
       "0                                             1   \n",
       "1                                             1   \n",
       "2                                             0   \n",
       "3                                             1   \n",
       "\n",
       "   calculated_host_listings_count_shared_rooms  reviews_per_month  \n",
       "0                                            0               0.18  \n",
       "1                                            0               0.07  \n",
       "2                                            0               3.90  \n",
       "3                                            0               2.20  "
      ]
     },
     "execution_count": 20,
     "metadata": {},
     "output_type": "execute_result"
    }
   ],
   "source": [
    "listings_df.iloc[:4,78:]"
   ]
  },
  {
   "cell_type": "code",
   "execution_count": 21,
   "metadata": {},
   "outputs": [],
   "source": [
    "features_to_keep.extend(['instant_bookable','cancellation_policy','reviews_per_month'])"
   ]
  },
  {
   "cell_type": "markdown",
   "metadata": {},
   "source": [
    "We will keep instant_bookable, cancellation_policy and reviews_per_month"
   ]
  },
  {
   "cell_type": "markdown",
   "metadata": {},
   "source": [
    "#### Now we start to drop features that are not useful"
   ]
  },
  {
   "cell_type": "code",
   "execution_count": 22,
   "metadata": {},
   "outputs": [
    {
     "data": {
      "text/plain": [
       "(11250, 87)"
      ]
     },
     "execution_count": 22,
     "metadata": {},
     "output_type": "execute_result"
    }
   ],
   "source": [
    "listings_df.shape # before drop"
   ]
  },
  {
   "cell_type": "code",
   "execution_count": 23,
   "metadata": {},
   "outputs": [
    {
     "data": {
      "text/plain": [
       "(11250, 38)"
      ]
     },
     "execution_count": 23,
     "metadata": {},
     "output_type": "execute_result"
    }
   ],
   "source": [
    "listings_df = listings_df[features_to_keep] # after drop\n",
    "listings_df.shape"
   ]
  },
  {
   "cell_type": "code",
   "execution_count": 24,
   "metadata": {},
   "outputs": [
    {
     "data": {
      "text/plain": [
       "(11250, 38)"
      ]
     },
     "execution_count": 24,
     "metadata": {},
     "output_type": "execute_result"
    }
   ],
   "source": [
    "listings_df.drop_duplicates(subset = ['id'], inplace=True) # drop any duplicate 'id'\n",
    "listings_df.shape  # so all 11250 rows have unique id, which means unique property"
   ]
  },
  {
   "cell_type": "code",
   "execution_count": 25,
   "metadata": {},
   "outputs": [
    {
     "name": "stdout",
     "output_type": "stream",
     "text": [
      "<class 'pandas.core.frame.DataFrame'>\n",
      "Int64Index: 11250 entries, 0 to 11249\n",
      "Data columns (total 38 columns):\n",
      "id                             11250 non-null int64\n",
      "host_id                        11250 non-null int64\n",
      "host_since                     11247 non-null object\n",
      "host_response_time             7939 non-null object\n",
      "host_response_rate             7939 non-null object\n",
      "host_is_superhost              11247 non-null object\n",
      "host_verifications             11250 non-null object\n",
      "host_identity_verified         11247 non-null object\n",
      "zipcode                        11157 non-null object\n",
      "latitude                       11250 non-null float64\n",
      "longitude                      11250 non-null float64\n",
      "property_type                  11250 non-null object\n",
      "room_type                      11250 non-null object\n",
      "accommodates                   11250 non-null int64\n",
      "bathrooms                      11235 non-null float64\n",
      "bedrooms                       11245 non-null float64\n",
      "beds                           11238 non-null float64\n",
      "bed_type                       11250 non-null object\n",
      "amenities                      11250 non-null object\n",
      "price                          11250 non-null object\n",
      "security_deposit               8153 non-null object\n",
      "cleaning_fee                   9154 non-null object\n",
      "guests_included                11250 non-null int64\n",
      "number_of_reviews              11250 non-null int64\n",
      "availability_30                11250 non-null int64\n",
      "availability_60                11250 non-null int64\n",
      "availability_90                11250 non-null int64\n",
      "availability_365               11250 non-null int64\n",
      "review_scores_rating           8927 non-null float64\n",
      "review_scores_accuracy         8922 non-null float64\n",
      "review_scores_cleanliness      8922 non-null float64\n",
      "review_scores_checkin          8921 non-null float64\n",
      "review_scores_communication    8921 non-null float64\n",
      "review_scores_location         8916 non-null float64\n",
      "review_scores_value            8917 non-null float64\n",
      "instant_bookable               11250 non-null object\n",
      "cancellation_policy            11250 non-null object\n",
      "reviews_per_month              9037 non-null float64\n",
      "dtypes: float64(13), int64(9), object(16)\n",
      "memory usage: 3.3+ MB\n"
     ]
    }
   ],
   "source": [
    "listings_df.info()"
   ]
  },
  {
   "cell_type": "markdown",
   "metadata": {},
   "source": [
    "#### We will  fill NA values\n",
    "\n",
    "1 For price related, fill NA values with 0\n",
    "\n",
    "2 For zipcode, fill NA values based on API query result using latitude and latitude\n",
    "\n",
    "3 For other features, fill NA values with most common"
   ]
  },
  {
   "cell_type": "code",
   "execution_count": 26,
   "metadata": {},
   "outputs": [
    {
     "name": "stdout",
     "output_type": "stream",
     "text": [
      "<class 'pandas.core.frame.DataFrame'>\n",
      "Int64Index: 11250 entries, 0 to 11249\n",
      "Data columns (total 38 columns):\n",
      "id                             11250 non-null int64\n",
      "host_id                        11250 non-null int64\n",
      "host_since                     11247 non-null object\n",
      "host_response_time             7939 non-null object\n",
      "host_response_rate             7939 non-null object\n",
      "host_is_superhost              11247 non-null object\n",
      "host_verifications             11250 non-null object\n",
      "host_identity_verified         11247 non-null object\n",
      "zipcode                        11157 non-null object\n",
      "latitude                       11250 non-null float64\n",
      "longitude                      11250 non-null float64\n",
      "property_type                  11250 non-null object\n",
      "room_type                      11250 non-null object\n",
      "accommodates                   11250 non-null int64\n",
      "bathrooms                      11235 non-null float64\n",
      "bedrooms                       11245 non-null float64\n",
      "beds                           11238 non-null float64\n",
      "bed_type                       11250 non-null object\n",
      "amenities                      11250 non-null object\n",
      "price                          11250 non-null object\n",
      "security_deposit               11250 non-null object\n",
      "cleaning_fee                   11250 non-null object\n",
      "guests_included                11250 non-null int64\n",
      "number_of_reviews              11250 non-null int64\n",
      "availability_30                11250 non-null int64\n",
      "availability_60                11250 non-null int64\n",
      "availability_90                11250 non-null int64\n",
      "availability_365               11250 non-null int64\n",
      "review_scores_rating           8927 non-null float64\n",
      "review_scores_accuracy         8922 non-null float64\n",
      "review_scores_cleanliness      8922 non-null float64\n",
      "review_scores_checkin          8921 non-null float64\n",
      "review_scores_communication    8921 non-null float64\n",
      "review_scores_location         8916 non-null float64\n",
      "review_scores_value            8917 non-null float64\n",
      "instant_bookable               11250 non-null object\n",
      "cancellation_policy            11250 non-null object\n",
      "reviews_per_month              9037 non-null float64\n",
      "dtypes: float64(13), int64(9), object(16)\n",
      "memory usage: 3.3+ MB\n"
     ]
    }
   ],
   "source": [
    "listings_df['security_deposit'].fillna('$0',inplace=True)\n",
    "listings_df['cleaning_fee'].fillna('$0',inplace=True)"
   ]
  },
  {
   "cell_type": "code",
   "execution_count": 27,
   "metadata": {},
   "outputs": [
    {
     "name": "stdout",
     "output_type": "stream",
     "text": [
      "Count of missing 'zipcode': 93\n",
      "\n",
      "[72, 938, 941, 1028, 1041, 1112, 1355, 1378, 1487, 1608, 1612, 1794, 1802, 2177, 2185, 2354, 2356, 2362, 2400, 2434, 2477, 2490, 2562, 2568, 2635, 2789, 3046, 3129, 3146, 3170, 3253, 3261, 3299, 3575, 3667, 3858, 3940, 3954, 4115, 4222, 4233, 4237, 4332, 4527, 4905, 4909, 4910, 4915, 4916, 4920, 4930, 4932, 4933, 4942, 4946, 4947, 4949, 4952, 5234, 5581, 5770, 5830, 5850, 5896, 5954, 5999, 6175, 6183, 6281, 6385, 6493, 6667, 6725, 6760, 6762, 6840, 7093, 7242, 7345, 7392, 7473, 7477, 7497, 7506, 7510, 7518, 7519, 7537, 7551, 7594, 7706, 7857, 9949]\n"
     ]
    }
   ],
   "source": [
    "zipna = listings_df[listings_df['zipcode'].isna()].index\n",
    "zipna = zipna.tolist()\n",
    "\n",
    "print(\"Count of missing 'zipcode': %d\\n\" % len(zipna))\n",
    "print(zipna)"
   ]
  },
  {
   "cell_type": "code",
   "execution_count": 30,
   "metadata": {},
   "outputs": [
    {
     "name": "stdout",
     "output_type": "stream",
     "text": [
      "{72: '78704', 938: '78746', 941: '78746', 1028: '78722', 1041: '78702', 1112: '78704', 1355: '78704', 1378: '78703', 1487: '78703', 1608: '78704', 1612: '78704', 1794: '78749', 1802: '78704', 2177: '78741', 2185: '78702', 2354: '78704', 2356: '78756', 2362: '78749', 2400: '78701', 2434: '78702', 2477: '78704', 2490: '78741', 2562: '78704', 2568: '78722', 2635: '78701', 2789: '78722', 3046: '78753', 3129: '78744', 3146: '78751', 3170: '78705', 3253: '78751', 3261: '78705', 3299: '78756', 3575: '78704', 3667: '78702', 3858: '78722', 3940: '78701', 3954: '78751', 4115: '78739', 4222: '78705', 4233: '78745', 4237: '78703', 4332: '78751', 4527: '78702', 4905: '78704', 4909: '78745', 4910: '78746', 4915: '78704', 4916: '78745', 4920: '78704', 4930: '78703', 4932: '78757', 4933: '78723', 4942: '78703', 4946: '78705', 4947: '78704', 4949: '78754', 4952: '78729', 5234: '78745', 5581: '78704', 5770: '78745', 5830: '78703', 5850: '78704', 5896: '78749', 5954: '78723', 5999: '78749', 6175: '78704', 6183: '78745', 6281: '78758', 6385: '78749', 6493: '78759', 6667: '78702', 6725: '78734', 6760: '78702', 6762: '78704', 6840: '78701', 7093: '78704', 7242: '78721', 7345: '78744', 7392: '78727', 7473: '78736', 7477: '78705', 7497: '78702', 7506: '78752', 7510: '78759', 7518: '78745', 7519: '78756', 7537: '78741', 7551: '78758', 7594: '78759', 7706: '78752', 7857: '78736', 9949: '78704'}\n"
     ]
    }
   ],
   "source": [
    "import requests\n",
    "import re\n",
    "\n",
    "API = r\"https://www.mapquestapi.com/geocoding/v1/reverse?key=\"\n",
    "API_KEY = \"EwUEHDGEs4GnQz4baNOLSIAL9oKaGxog\"\n",
    "\n",
    "zipcodes = {}\n",
    "for idx in zipna:\n",
    "    lat = listings_df.loc[idx][\"latitude\"]\n",
    "    lat = str(lat)\n",
    "    \n",
    "    long = listings_df.loc[idx][\"longitude\"]\n",
    "    long = str(long)\n",
    "    \n",
    "    url = API + API_KEY + r\"&location=\" + lat + r\",\" + long + \\\n",
    "           r\"&outFormat=json&thumbMaps=false\"\n",
    "    r = requests.get(url)\n",
    "\n",
    "    API_zip = r.json()[\"results\"][0][\"locations\"][0][\"postalCode\"]\n",
    "    API_zip = re.findall(\"^\\d*\", API_zip)[0]\n",
    "    \n",
    "    zipcodes[idx] = API_zip\n",
    "\n",
    "print(zipcodes)"
   ]
  },
  {
   "cell_type": "code",
   "execution_count": 41,
   "metadata": {},
   "outputs": [
    {
     "name": "stdout",
     "output_type": "stream",
     "text": [
      "The number of NaNs for 'zipcode': 0\n"
     ]
    }
   ],
   "source": [
    "for idx in zipna:\n",
    "    listings_df.loc[idx, \"zipcode\"] = str(zipcodes.get(idx))\n",
    "    \n",
    "print(\"The number of NaNs for 'zipcode': %d\" % \\\n",
    "      len(listings_df[listings_df.zipcode.isna()]))"
   ]
  },
  {
   "cell_type": "code",
   "execution_count": 88,
   "metadata": {},
   "outputs": [
    {
     "data": {
      "text/plain": [
       "78613       1\n",
       "78619       1\n",
       "78620       2\n",
       "78652       4\n",
       "78653       1\n",
       "78660       5\n",
       "78669       2\n",
       "78681       1\n",
       "78701     680\n",
       "78702    1467\n",
       "78703     578\n",
       "78704    2187\n",
       "78705     612\n",
       "78712       1\n",
       "78717      52\n",
       "78719       2\n",
       "78721     233\n",
       "78722     207\n",
       "78723     352\n",
       "78724      91\n",
       "78725      72\n",
       "78726      12\n",
       "78727      91\n",
       "78728      67\n",
       "78729      91\n",
       "78730      48\n",
       "78731     132\n",
       "78732      43\n",
       "78733      72\n",
       "78734     210\n",
       "78735      65\n",
       "78736      54\n",
       "78737      99\n",
       "78738      49\n",
       "78739      23\n",
       "78741     765\n",
       "78742       7\n",
       "78744     182\n",
       "78745     534\n",
       "78746     305\n",
       "78747      47\n",
       "78748     154\n",
       "78749     117\n",
       "78750      48\n",
       "78751     480\n",
       "78752     125\n",
       "78753      87\n",
       "78754     102\n",
       "78756     155\n",
       "78757     201\n",
       "78758     214\n",
       "78759     120\n",
       "Name: zipcode, dtype: int64"
      ]
     },
     "execution_count": 88,
     "metadata": {},
     "output_type": "execute_result"
    }
   ],
   "source": [
    "listings_df['zipcode'] = listings_df['zipcode'].astype(str)\n",
    "listings_df['zipcode'] = listings_df['zipcode'].apply(lambda x: re.sub(r'[a-zA-Z\\s]','',x))\n",
    "listings_df['zipcode'] = listings_df['zipcode'].apply(lambda x: re.sub(r'\\.0','',x))\n",
    "listings_df['zipcode'] = listings_df['zipcode'].astype(int)\n",
    "aindex = listings_df[listings_df['zipcode'] ==78767].index\n",
    "listings_df.loc[aindex,'zipcode'] = 78701\n",
    "listings_df['zipcode'].value_counts().sort_index()"
   ]
  },
  {
   "cell_type": "code",
   "execution_count": 89,
   "metadata": {},
   "outputs": [],
   "source": [
    "nullcount = listings_df.isnull().sum()\n",
    "nullcount = nullcount[nullcount>0]\n",
    "nullcount.index\n",
    "for col in nullcount.index:\n",
    "    listings_df[col].fillna(listings_df[col].value_counts().idxmax(), inplace=True)"
   ]
  },
  {
   "cell_type": "code",
   "execution_count": 90,
   "metadata": {},
   "outputs": [
    {
     "name": "stdout",
     "output_type": "stream",
     "text": [
      "<class 'pandas.core.frame.DataFrame'>\n",
      "Int64Index: 11250 entries, 0 to 11249\n",
      "Data columns (total 38 columns):\n",
      "id                             11250 non-null int64\n",
      "host_id                        11250 non-null int64\n",
      "host_since                     11250 non-null object\n",
      "host_response_time             11250 non-null object\n",
      "host_response_rate             11250 non-null object\n",
      "host_is_superhost              11250 non-null object\n",
      "host_verifications             11250 non-null object\n",
      "host_identity_verified         11250 non-null object\n",
      "zipcode                        11250 non-null int32\n",
      "latitude                       11250 non-null float64\n",
      "longitude                      11250 non-null float64\n",
      "property_type                  11250 non-null object\n",
      "room_type                      11250 non-null object\n",
      "accommodates                   11250 non-null int64\n",
      "bathrooms                      11250 non-null float64\n",
      "bedrooms                       11250 non-null float64\n",
      "beds                           11250 non-null float64\n",
      "bed_type                       11250 non-null object\n",
      "amenities                      11250 non-null object\n",
      "price                          11250 non-null object\n",
      "security_deposit               11250 non-null object\n",
      "cleaning_fee                   11250 non-null object\n",
      "guests_included                11250 non-null int64\n",
      "number_of_reviews              11250 non-null int64\n",
      "availability_30                11250 non-null int64\n",
      "availability_60                11250 non-null int64\n",
      "availability_90                11250 non-null int64\n",
      "availability_365               11250 non-null int64\n",
      "review_scores_rating           11250 non-null float64\n",
      "review_scores_accuracy         11250 non-null float64\n",
      "review_scores_cleanliness      11250 non-null float64\n",
      "review_scores_checkin          11250 non-null float64\n",
      "review_scores_communication    11250 non-null float64\n",
      "review_scores_location         11250 non-null float64\n",
      "review_scores_value            11250 non-null float64\n",
      "instant_bookable               11250 non-null object\n",
      "cancellation_policy            11250 non-null object\n",
      "reviews_per_month              11250 non-null float64\n",
      "dtypes: float64(13), int32(1), int64(9), object(15)\n",
      "memory usage: 3.6+ MB\n"
     ]
    }
   ],
   "source": [
    "listings_df.info()"
   ]
  },
  {
   "cell_type": "code",
   "execution_count": 91,
   "metadata": {},
   "outputs": [],
   "source": [
    "listings_df.to_csv('./listings_clean.csv',index=None)"
   ]
  },
  {
   "cell_type": "markdown",
   "metadata": {},
   "source": [
    "### This is the end of data wrangling part. In this notebook, I have finished following steps:\n",
    "\n",
    "1 Loaded the data into Pandas DataFrame\n",
    "\n",
    "2 Removed features where majority is NaN value\n",
    "\n",
    "3 Removed features where only has one unique value\n",
    "\n",
    "4 Examined remaining features to evaluate whether it is related for modeling (predicting airbnb price), and removed those features considered as not useful\n",
    "\n",
    "5 Filled NA values by most common value\n",
    "\n",
    "6 Saved the dataframe to csv file for future analysis\n",
    "\n",
    "After this processing, I will start to look into the DataFrame to prepare for a data story"
   ]
  }
 ],
 "metadata": {
  "kernelspec": {
   "display_name": "Python 3",
   "language": "python",
   "name": "python3"
  },
  "language_info": {
   "codemirror_mode": {
    "name": "ipython",
    "version": 3
   },
   "file_extension": ".py",
   "mimetype": "text/x-python",
   "name": "python",
   "nbconvert_exporter": "python",
   "pygments_lexer": "ipython3",
   "version": "3.7.4"
  }
 },
 "nbformat": 4,
 "nbformat_minor": 1
}

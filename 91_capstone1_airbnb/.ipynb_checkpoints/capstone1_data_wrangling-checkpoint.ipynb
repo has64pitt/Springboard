{
 "cells": [
  {
   "cell_type": "markdown",
   "metadata": {},
   "source": [
    "### This notebook is about data wrangling for 1st capstone project, the goal is to predict airbnb listing price at Austin, TX. The dataset was taken from insideairbnb.com (http://insideairbnb.com/get-the-data.html)"
   ]
  },
  {
   "cell_type": "code",
   "execution_count": 341,
   "metadata": {
    "_cell_guid": "b1076dfc-b9ad-4769-8c92-a6c4dae69d19",
    "_uuid": "8f2839f25d086af736a60e9eeb907d3b93b6e0e5"
   },
   "outputs": [
    {
     "name": "stdout",
     "output_type": "stream",
     "text": [
      "./capstone1_data_wrangling.ipynb\n",
      "./listings.csv\n",
      "./.ipynb_checkpoints\\capstone1_data_wrangling-checkpoint.ipynb\n"
     ]
    }
   ],
   "source": [
    "import numpy as np\n",
    "import pandas as pd\n",
    "import matplotlib.pyplot as plt\n",
    "\n",
    "import os\n",
    "for dirname, _, filenames in os.walk('./'):\n",
    "    for filename in filenames:\n",
    "        print(os.path.join(dirname, filename)) "
   ]
  },
  {
   "cell_type": "code",
   "execution_count": 342,
   "metadata": {
    "_cell_guid": "79c7e3d0-c299-4dcb-8224-4455121ee9b0",
    "_uuid": "d629ff2d2480ee46fbb7e2d37f6b5fab8052498a"
   },
   "outputs": [
    {
     "name": "stderr",
     "output_type": "stream",
     "text": [
      "C:\\Users\\Hao\\Anaconda3\\lib\\site-packages\\IPython\\core\\interactiveshell.py:3058: DtypeWarning: Columns (43,61,62) have mixed types. Specify dtype option on import or set low_memory=False.\n",
      "  interactivity=interactivity, compiler=compiler, result=result)\n"
     ]
    },
    {
     "data": {
      "text/plain": [
       "(11250, 106)"
      ]
     },
     "execution_count": 342,
     "metadata": {},
     "output_type": "execute_result"
    }
   ],
   "source": [
    "listings_df = pd.read_csv('./listings.csv')\n",
    "listings_df.shape"
   ]
  },
  {
   "cell_type": "markdown",
   "metadata": {},
   "source": [
    "#### So there are 11250 entries and 106 features in total. \n",
    "#### First, we will take a look at the features mostly are NA and drop them"
   ]
  },
  {
   "cell_type": "code",
   "execution_count": 344,
   "metadata": {},
   "outputs": [
    {
     "data": {
      "text/plain": [
       "neighbourhood_group_cleansed    11250\n",
       "host_acceptance_rate            11250\n",
       "thumbnail_url                   11250\n",
       "medium_url                      11250\n",
       "xl_picture_url                  11250\n",
       "license                         11217\n",
       "square_feet                     11046\n",
       "monthly_price                   10473\n",
       "weekly_price                    10318\n",
       "notes                            5971\n",
       "access                           4554\n",
       "transit                          4233\n",
       "host_about                       3932\n",
       "interaction                      3769\n",
       "neighborhood_overview            3714\n",
       "dtype: int64"
      ]
     },
     "execution_count": 344,
     "metadata": {},
     "output_type": "execute_result"
    }
   ],
   "source": [
    "listings_df.isnull().sum().sort_values(ascending = False).head(15)"
   ]
  },
  {
   "cell_type": "markdown",
   "metadata": {},
   "source": [
    "We can drop the features with > 10000 NA values, namely following features<br>\n",
    "\n",
    "    neighbourhood_group_cleansed    11250\n",
    "    host_acceptance_rate            11250\n",
    "    thumbnail_url                   11250\n",
    "    medium_url                      11250\n",
    "    xl_picture_url                  11250\n",
    "    license                         11217\n",
    "    square_feet                     11046\n",
    "    monthly_price                   10473\n",
    "    weekly_price                    10318"
   ]
  },
  {
   "cell_type": "code",
   "execution_count": 345,
   "metadata": {},
   "outputs": [
    {
     "data": {
      "text/plain": [
       "(11250, 97)"
      ]
     },
     "execution_count": 345,
     "metadata": {},
     "output_type": "execute_result"
    }
   ],
   "source": [
    "listings_df.dropna(axis=1, thresh = 1000, inplace=True)\n",
    "listings_df.shape"
   ]
  },
  {
   "cell_type": "markdown",
   "metadata": {},
   "source": [
    "#### Next let's check if there is any feature that contains all the same values, we can discard it since it is not useful"
   ]
  },
  {
   "cell_type": "code",
   "execution_count": 346,
   "metadata": {},
   "outputs": [
    {
     "data": {
      "text/plain": [
       "[('scrape_id', 1),\n",
       " ('last_scraped', 1),\n",
       " ('experiences_offered', 1),\n",
       " ('country_code', 1),\n",
       " ('country', 1),\n",
       " ('has_availability', 1),\n",
       " ('calendar_last_scraped', 1),\n",
       " ('requires_license', 1),\n",
       " ('jurisdiction_names', 1),\n",
       " ('is_business_travel_ready', 1),\n",
       " ('host_is_superhost', 2),\n",
       " ('host_has_profile_pic', 2),\n",
       " ('host_identity_verified', 2),\n",
       " ('market', 2),\n",
       " ('is_location_exact', 2)]"
      ]
     },
     "execution_count": 346,
     "metadata": {},
     "output_type": "execute_result"
    }
   ],
   "source": [
    "feature_value_counts = [(i,len(listings_df[i].value_counts())) for i in listings_df.columns]\n",
    "feature_value_counts.sort(key= lambda x:  x[1])\n",
    "feature_value_counts[:15]"
   ]
  },
  {
   "cell_type": "markdown",
   "metadata": {},
   "source": [
    " So we can remove following features which contains same value across all rows\n",
    "\n",
    "     ('scrape_id', 1),\n",
    "     ('last_scraped', 1),\n",
    "     ('experiences_offered', 1),\n",
    "     ('country_code', 1),\n",
    "     ('country', 1),\n",
    "     ('has_availability', 1),\n",
    "     ('calendar_last_scraped', 1),\n",
    "     ('requires_license', 1),\n",
    "     ('jurisdiction_names', 1),\n",
    "     ('is_business_travel_ready', 1)"
   ]
  },
  {
   "cell_type": "code",
   "execution_count": 347,
   "metadata": {},
   "outputs": [
    {
     "data": {
      "text/plain": [
       "(11250, 87)"
      ]
     },
     "execution_count": 347,
     "metadata": {},
     "output_type": "execute_result"
    }
   ],
   "source": [
    "for i in listings_df.columns:\n",
    "    if len(listings_df[i].value_counts()) == 1:\n",
    "        listings_df.drop(i,inplace=True,axis=1)\n",
    "listings_df.shape"
   ]
  },
  {
   "cell_type": "markdown",
   "metadata": {},
   "source": [
    "#### Next, we will check what each column is about and decide which ones are related for our analysis (predict Airbnb listing price)\n",
    "\n",
    "Let's list all features"
   ]
  },
  {
   "cell_type": "code",
   "execution_count": 348,
   "metadata": {},
   "outputs": [
    {
     "data": {
      "text/plain": [
       "[(0, 'id'),\n",
       " (1, 'listing_url'),\n",
       " (2, 'name'),\n",
       " (3, 'summary'),\n",
       " (4, 'space'),\n",
       " (5, 'description'),\n",
       " (6, 'neighborhood_overview'),\n",
       " (7, 'notes'),\n",
       " (8, 'transit'),\n",
       " (9, 'access'),\n",
       " (10, 'interaction'),\n",
       " (11, 'house_rules'),\n",
       " (12, 'picture_url'),\n",
       " (13, 'host_id'),\n",
       " (14, 'host_url'),\n",
       " (15, 'host_name'),\n",
       " (16, 'host_since'),\n",
       " (17, 'host_location'),\n",
       " (18, 'host_about'),\n",
       " (19, 'host_response_time'),\n",
       " (20, 'host_response_rate'),\n",
       " (21, 'host_is_superhost'),\n",
       " (22, 'host_thumbnail_url'),\n",
       " (23, 'host_picture_url'),\n",
       " (24, 'host_neighbourhood'),\n",
       " (25, 'host_listings_count'),\n",
       " (26, 'host_total_listings_count'),\n",
       " (27, 'host_verifications'),\n",
       " (28, 'host_has_profile_pic'),\n",
       " (29, 'host_identity_verified'),\n",
       " (30, 'street'),\n",
       " (31, 'neighbourhood'),\n",
       " (32, 'neighbourhood_cleansed'),\n",
       " (33, 'city'),\n",
       " (34, 'state'),\n",
       " (35, 'zipcode'),\n",
       " (36, 'market'),\n",
       " (37, 'smart_location'),\n",
       " (38, 'latitude'),\n",
       " (39, 'longitude'),\n",
       " (40, 'is_location_exact'),\n",
       " (41, 'property_type'),\n",
       " (42, 'room_type'),\n",
       " (43, 'accommodates'),\n",
       " (44, 'bathrooms'),\n",
       " (45, 'bedrooms'),\n",
       " (46, 'beds'),\n",
       " (47, 'bed_type'),\n",
       " (48, 'amenities'),\n",
       " (49, 'price'),\n",
       " (50, 'security_deposit'),\n",
       " (51, 'cleaning_fee'),\n",
       " (52, 'guests_included'),\n",
       " (53, 'extra_people'),\n",
       " (54, 'minimum_nights'),\n",
       " (55, 'maximum_nights'),\n",
       " (56, 'minimum_minimum_nights'),\n",
       " (57, 'maximum_minimum_nights'),\n",
       " (58, 'minimum_maximum_nights'),\n",
       " (59, 'maximum_maximum_nights'),\n",
       " (60, 'minimum_nights_avg_ntm'),\n",
       " (61, 'maximum_nights_avg_ntm'),\n",
       " (62, 'calendar_updated'),\n",
       " (63, 'availability_30'),\n",
       " (64, 'availability_60'),\n",
       " (65, 'availability_90'),\n",
       " (66, 'availability_365'),\n",
       " (67, 'number_of_reviews'),\n",
       " (68, 'number_of_reviews_ltm'),\n",
       " (69, 'first_review'),\n",
       " (70, 'last_review'),\n",
       " (71, 'review_scores_rating'),\n",
       " (72, 'review_scores_accuracy'),\n",
       " (73, 'review_scores_cleanliness'),\n",
       " (74, 'review_scores_checkin'),\n",
       " (75, 'review_scores_communication'),\n",
       " (76, 'review_scores_location'),\n",
       " (77, 'review_scores_value'),\n",
       " (78, 'instant_bookable'),\n",
       " (79, 'cancellation_policy'),\n",
       " (80, 'require_guest_profile_picture'),\n",
       " (81, 'require_guest_phone_verification'),\n",
       " (82, 'calculated_host_listings_count'),\n",
       " (83, 'calculated_host_listings_count_entire_homes'),\n",
       " (84, 'calculated_host_listings_count_private_rooms'),\n",
       " (85, 'calculated_host_listings_count_shared_rooms'),\n",
       " (86, 'reviews_per_month')]"
      ]
     },
     "execution_count": 348,
     "metadata": {},
     "output_type": "execute_result"
    }
   ],
   "source": [
    "[i for i in enumerate(listings_df.columns)]"
   ]
  },
  {
   "cell_type": "markdown",
   "metadata": {},
   "source": [
    "#### Features can be divided into subgroups\n",
    "1) general features about the listing (0 to 12)\n",
    "\n",
    "2) features about host (13 to 29)\n",
    "    \n",
    "3) features about property location (30 to 40)\n",
    "\n",
    "4) features about property conditions (41 to 48)\n",
    "\n",
    "5) features about property prices/stays (49 to 61)\n",
    "\n",
    "6) features about property reviews (62 to 77)\n",
    "\n",
    "7) other features (78 to end)\n",
    "\n",
    "#### We will examine these features and decide which ones to keep"
   ]
  },
  {
   "cell_type": "code",
   "execution_count": 349,
   "metadata": {},
   "outputs": [
    {
     "data": {
      "text/html": [
       "<div>\n",
       "<style scoped>\n",
       "    .dataframe tbody tr th:only-of-type {\n",
       "        vertical-align: middle;\n",
       "    }\n",
       "\n",
       "    .dataframe tbody tr th {\n",
       "        vertical-align: top;\n",
       "    }\n",
       "\n",
       "    .dataframe thead th {\n",
       "        text-align: right;\n",
       "    }\n",
       "</style>\n",
       "<table border=\"1\" class=\"dataframe\">\n",
       "  <thead>\n",
       "    <tr style=\"text-align: right;\">\n",
       "      <th></th>\n",
       "      <th>id</th>\n",
       "      <th>listing_url</th>\n",
       "      <th>name</th>\n",
       "      <th>summary</th>\n",
       "      <th>space</th>\n",
       "      <th>description</th>\n",
       "      <th>neighborhood_overview</th>\n",
       "      <th>notes</th>\n",
       "      <th>transit</th>\n",
       "      <th>access</th>\n",
       "      <th>interaction</th>\n",
       "      <th>house_rules</th>\n",
       "      <th>picture_url</th>\n",
       "    </tr>\n",
       "  </thead>\n",
       "  <tbody>\n",
       "    <tr>\n",
       "      <td>0</td>\n",
       "      <td>2265</td>\n",
       "      <td>https://www.airbnb.com/rooms/2265</td>\n",
       "      <td>Zen-East in the Heart of Austin (monthly rental)</td>\n",
       "      <td>Zen East is situated in a vibrant &amp; diverse mu...</td>\n",
       "      <td>This colorful and clean 1923 house was complet...</td>\n",
       "      <td>Zen East is situated in a vibrant &amp; diverse mu...</td>\n",
       "      <td>NaN</td>\n",
       "      <td>A 2013 Genuine Buddy Scooter 125 may be availa...</td>\n",
       "      <td>5 min walk to Capitol Metro Rail (train that t...</td>\n",
       "      <td>Several local restaurants, small clubs, music ...</td>\n",
       "      <td>Depending on your dates and arrival time, I am...</td>\n",
       "      <td>• Check-in time is 4 pm. Check out is 11 am. I...</td>\n",
       "      <td>https://a0.muscache.com/im/pictures/4740524/63...</td>\n",
       "    </tr>\n",
       "    <tr>\n",
       "      <td>1</td>\n",
       "      <td>5245</td>\n",
       "      <td>https://www.airbnb.com/rooms/5245</td>\n",
       "      <td>Eco friendly, Colorful, Clean, Cozy monthly share</td>\n",
       "      <td>Situated in a vibrant &amp; diverse multicultural ...</td>\n",
       "      <td>This green, colorful, clean and cozy house was...</td>\n",
       "      <td>Situated in a vibrant &amp; diverse multicultural ...</td>\n",
       "      <td>NaN</td>\n",
       "      <td>Please note: A two story studio was built in t...</td>\n",
       "      <td>NaN</td>\n",
       "      <td>NaN</td>\n",
       "      <td>I should be available, upon your arrival, to a...</td>\n",
       "      <td>A brief profile for all guests along with phot...</td>\n",
       "      <td>https://a0.muscache.com/im/pictures/5167505/b3...</td>\n",
       "    </tr>\n",
       "    <tr>\n",
       "      <td>2</td>\n",
       "      <td>5456</td>\n",
       "      <td>https://www.airbnb.com/rooms/5456</td>\n",
       "      <td>Walk to 6th, Rainey St and Convention Ctr</td>\n",
       "      <td>Great central  location for walking to Convent...</td>\n",
       "      <td>Cute Private Studio apartment located in Willo...</td>\n",
       "      <td>Great central  location for walking to Convent...</td>\n",
       "      <td>My neighborhood is ideally located if you want...</td>\n",
       "      <td>Parking on street requires a permit.  Permits ...</td>\n",
       "      <td>Bus stop around the block.  Uber, Lyft, Ride, ...</td>\n",
       "      <td>Guests have access to patio.</td>\n",
       "      <td>I am happy to welcome my guests and show them in.</td>\n",
       "      <td>No Pets allowed.  No smoking in the room. No m...</td>\n",
       "      <td>https://a0.muscache.com/im/pictures/14084884/b...</td>\n",
       "    </tr>\n",
       "    <tr>\n",
       "      <td>3</td>\n",
       "      <td>5769</td>\n",
       "      <td>https://www.airbnb.com/rooms/5769</td>\n",
       "      <td>NW Austin Room</td>\n",
       "      <td>NaN</td>\n",
       "      <td>Looking for a comfortable inexpensive room to ...</td>\n",
       "      <td>Looking for a comfortable inexpensive room to ...</td>\n",
       "      <td>Quiet neighborhood with lots of trees and good...</td>\n",
       "      <td>NaN</td>\n",
       "      <td>We are approximately 16 miles from downtown Au...</td>\n",
       "      <td>Gravel Parking Kitchen</td>\n",
       "      <td>We interact with our guests as little or as mu...</td>\n",
       "      <td>I will need to see identification at check in....</td>\n",
       "      <td>https://a0.muscache.com/im/pictures/23822033/a...</td>\n",
       "    </tr>\n",
       "  </tbody>\n",
       "</table>\n",
       "</div>"
      ],
      "text/plain": [
       "     id                        listing_url  \\\n",
       "0  2265  https://www.airbnb.com/rooms/2265   \n",
       "1  5245  https://www.airbnb.com/rooms/5245   \n",
       "2  5456  https://www.airbnb.com/rooms/5456   \n",
       "3  5769  https://www.airbnb.com/rooms/5769   \n",
       "\n",
       "                                                name  \\\n",
       "0   Zen-East in the Heart of Austin (monthly rental)   \n",
       "1  Eco friendly, Colorful, Clean, Cozy monthly share   \n",
       "2          Walk to 6th, Rainey St and Convention Ctr   \n",
       "3                                     NW Austin Room   \n",
       "\n",
       "                                             summary  \\\n",
       "0  Zen East is situated in a vibrant & diverse mu...   \n",
       "1  Situated in a vibrant & diverse multicultural ...   \n",
       "2  Great central  location for walking to Convent...   \n",
       "3                                                NaN   \n",
       "\n",
       "                                               space  \\\n",
       "0  This colorful and clean 1923 house was complet...   \n",
       "1  This green, colorful, clean and cozy house was...   \n",
       "2  Cute Private Studio apartment located in Willo...   \n",
       "3  Looking for a comfortable inexpensive room to ...   \n",
       "\n",
       "                                         description  \\\n",
       "0  Zen East is situated in a vibrant & diverse mu...   \n",
       "1  Situated in a vibrant & diverse multicultural ...   \n",
       "2  Great central  location for walking to Convent...   \n",
       "3  Looking for a comfortable inexpensive room to ...   \n",
       "\n",
       "                               neighborhood_overview  \\\n",
       "0                                                NaN   \n",
       "1                                                NaN   \n",
       "2  My neighborhood is ideally located if you want...   \n",
       "3  Quiet neighborhood with lots of trees and good...   \n",
       "\n",
       "                                               notes  \\\n",
       "0  A 2013 Genuine Buddy Scooter 125 may be availa...   \n",
       "1  Please note: A two story studio was built in t...   \n",
       "2  Parking on street requires a permit.  Permits ...   \n",
       "3                                                NaN   \n",
       "\n",
       "                                             transit  \\\n",
       "0  5 min walk to Capitol Metro Rail (train that t...   \n",
       "1                                                NaN   \n",
       "2  Bus stop around the block.  Uber, Lyft, Ride, ...   \n",
       "3  We are approximately 16 miles from downtown Au...   \n",
       "\n",
       "                                              access  \\\n",
       "0  Several local restaurants, small clubs, music ...   \n",
       "1                                                NaN   \n",
       "2                       Guests have access to patio.   \n",
       "3                             Gravel Parking Kitchen   \n",
       "\n",
       "                                         interaction  \\\n",
       "0  Depending on your dates and arrival time, I am...   \n",
       "1  I should be available, upon your arrival, to a...   \n",
       "2  I am happy to welcome my guests and show them in.   \n",
       "3  We interact with our guests as little or as mu...   \n",
       "\n",
       "                                         house_rules  \\\n",
       "0  • Check-in time is 4 pm. Check out is 11 am. I...   \n",
       "1  A brief profile for all guests along with phot...   \n",
       "2  No Pets allowed.  No smoking in the room. No m...   \n",
       "3  I will need to see identification at check in....   \n",
       "\n",
       "                                         picture_url  \n",
       "0  https://a0.muscache.com/im/pictures/4740524/63...  \n",
       "1  https://a0.muscache.com/im/pictures/5167505/b3...  \n",
       "2  https://a0.muscache.com/im/pictures/14084884/b...  \n",
       "3  https://a0.muscache.com/im/pictures/23822033/a...  "
      ]
     },
     "execution_count": 349,
     "metadata": {},
     "output_type": "execute_result"
    }
   ],
   "source": [
    "features_to_keep = []\n",
    "listings_df.iloc[:4,:13]"
   ]
  },
  {
   "cell_type": "code",
   "execution_count": 350,
   "metadata": {},
   "outputs": [],
   "source": [
    "features_to_keep.extend(['id'])"
   ]
  },
  {
   "cell_type": "markdown",
   "metadata": {},
   "source": [
    "We will only keep id, which uniquely identifies the listing property. Other features are either not useful (url) or requires NLP analysis and are out of scope for this analysis (name, summary, description)"
   ]
  },
  {
   "cell_type": "code",
   "execution_count": 351,
   "metadata": {},
   "outputs": [
    {
     "data": {
      "text/html": [
       "<div>\n",
       "<style scoped>\n",
       "    .dataframe tbody tr th:only-of-type {\n",
       "        vertical-align: middle;\n",
       "    }\n",
       "\n",
       "    .dataframe tbody tr th {\n",
       "        vertical-align: top;\n",
       "    }\n",
       "\n",
       "    .dataframe thead th {\n",
       "        text-align: right;\n",
       "    }\n",
       "</style>\n",
       "<table border=\"1\" class=\"dataframe\">\n",
       "  <thead>\n",
       "    <tr style=\"text-align: right;\">\n",
       "      <th></th>\n",
       "      <th>host_id</th>\n",
       "      <th>host_url</th>\n",
       "      <th>host_name</th>\n",
       "      <th>host_since</th>\n",
       "      <th>host_location</th>\n",
       "      <th>host_about</th>\n",
       "      <th>host_response_time</th>\n",
       "      <th>host_response_rate</th>\n",
       "      <th>host_is_superhost</th>\n",
       "      <th>host_thumbnail_url</th>\n",
       "      <th>host_picture_url</th>\n",
       "      <th>host_neighbourhood</th>\n",
       "      <th>host_listings_count</th>\n",
       "      <th>host_total_listings_count</th>\n",
       "      <th>host_verifications</th>\n",
       "      <th>host_has_profile_pic</th>\n",
       "      <th>host_identity_verified</th>\n",
       "    </tr>\n",
       "  </thead>\n",
       "  <tbody>\n",
       "    <tr>\n",
       "      <td>0</td>\n",
       "      <td>2466</td>\n",
       "      <td>https://www.airbnb.com/users/show/2466</td>\n",
       "      <td>Paddy</td>\n",
       "      <td>2008-08-23</td>\n",
       "      <td>Austin, Texas, United States</td>\n",
       "      <td>I am a long time resident of Austin. I earned ...</td>\n",
       "      <td>within a few hours</td>\n",
       "      <td>100%</td>\n",
       "      <td>t</td>\n",
       "      <td>https://a0.muscache.com/im/users/2466/profile_...</td>\n",
       "      <td>https://a0.muscache.com/im/users/2466/profile_...</td>\n",
       "      <td>East Downtown</td>\n",
       "      <td>3.0</td>\n",
       "      <td>3.0</td>\n",
       "      <td>['email', 'phone', 'facebook', 'reviews', 'kba']</td>\n",
       "      <td>t</td>\n",
       "      <td>t</td>\n",
       "    </tr>\n",
       "    <tr>\n",
       "      <td>1</td>\n",
       "      <td>2466</td>\n",
       "      <td>https://www.airbnb.com/users/show/2466</td>\n",
       "      <td>Paddy</td>\n",
       "      <td>2008-08-23</td>\n",
       "      <td>Austin, Texas, United States</td>\n",
       "      <td>I am a long time resident of Austin. I earned ...</td>\n",
       "      <td>within a few hours</td>\n",
       "      <td>100%</td>\n",
       "      <td>t</td>\n",
       "      <td>https://a0.muscache.com/im/users/2466/profile_...</td>\n",
       "      <td>https://a0.muscache.com/im/users/2466/profile_...</td>\n",
       "      <td>East Downtown</td>\n",
       "      <td>3.0</td>\n",
       "      <td>3.0</td>\n",
       "      <td>['email', 'phone', 'facebook', 'reviews', 'kba']</td>\n",
       "      <td>t</td>\n",
       "      <td>t</td>\n",
       "    </tr>\n",
       "    <tr>\n",
       "      <td>2</td>\n",
       "      <td>8028</td>\n",
       "      <td>https://www.airbnb.com/users/show/8028</td>\n",
       "      <td>Sylvia</td>\n",
       "      <td>2009-02-16</td>\n",
       "      <td>Austin, Texas, United States</td>\n",
       "      <td>I am a licensed Real Estate Broker and owner o...</td>\n",
       "      <td>within a few hours</td>\n",
       "      <td>100%</td>\n",
       "      <td>t</td>\n",
       "      <td>https://a0.muscache.com/im/users/8028/profile_...</td>\n",
       "      <td>https://a0.muscache.com/im/users/8028/profile_...</td>\n",
       "      <td>East Downtown</td>\n",
       "      <td>1.0</td>\n",
       "      <td>1.0</td>\n",
       "      <td>['email', 'phone', 'reviews', 'kba']</td>\n",
       "      <td>t</td>\n",
       "      <td>t</td>\n",
       "    </tr>\n",
       "    <tr>\n",
       "      <td>3</td>\n",
       "      <td>8186</td>\n",
       "      <td>https://www.airbnb.com/users/show/8186</td>\n",
       "      <td>Elizabeth</td>\n",
       "      <td>2009-02-19</td>\n",
       "      <td>Austin, Texas, United States</td>\n",
       "      <td>We're easygoing professionals that enjoy meeti...</td>\n",
       "      <td>within an hour</td>\n",
       "      <td>100%</td>\n",
       "      <td>t</td>\n",
       "      <td>https://a0.muscache.com/im/users/8186/profile_...</td>\n",
       "      <td>https://a0.muscache.com/im/users/8186/profile_...</td>\n",
       "      <td>SW Williamson Co.</td>\n",
       "      <td>1.0</td>\n",
       "      <td>1.0</td>\n",
       "      <td>['email', 'phone', 'reviews', 'jumio', 'govern...</td>\n",
       "      <td>t</td>\n",
       "      <td>t</td>\n",
       "    </tr>\n",
       "  </tbody>\n",
       "</table>\n",
       "</div>"
      ],
      "text/plain": [
       "   host_id                                host_url  host_name  host_since  \\\n",
       "0     2466  https://www.airbnb.com/users/show/2466      Paddy  2008-08-23   \n",
       "1     2466  https://www.airbnb.com/users/show/2466      Paddy  2008-08-23   \n",
       "2     8028  https://www.airbnb.com/users/show/8028     Sylvia  2009-02-16   \n",
       "3     8186  https://www.airbnb.com/users/show/8186  Elizabeth  2009-02-19   \n",
       "\n",
       "                  host_location  \\\n",
       "0  Austin, Texas, United States   \n",
       "1  Austin, Texas, United States   \n",
       "2  Austin, Texas, United States   \n",
       "3  Austin, Texas, United States   \n",
       "\n",
       "                                          host_about  host_response_time  \\\n",
       "0  I am a long time resident of Austin. I earned ...  within a few hours   \n",
       "1  I am a long time resident of Austin. I earned ...  within a few hours   \n",
       "2  I am a licensed Real Estate Broker and owner o...  within a few hours   \n",
       "3  We're easygoing professionals that enjoy meeti...      within an hour   \n",
       "\n",
       "  host_response_rate host_is_superhost  \\\n",
       "0               100%                 t   \n",
       "1               100%                 t   \n",
       "2               100%                 t   \n",
       "3               100%                 t   \n",
       "\n",
       "                                  host_thumbnail_url  \\\n",
       "0  https://a0.muscache.com/im/users/2466/profile_...   \n",
       "1  https://a0.muscache.com/im/users/2466/profile_...   \n",
       "2  https://a0.muscache.com/im/users/8028/profile_...   \n",
       "3  https://a0.muscache.com/im/users/8186/profile_...   \n",
       "\n",
       "                                    host_picture_url host_neighbourhood  \\\n",
       "0  https://a0.muscache.com/im/users/2466/profile_...      East Downtown   \n",
       "1  https://a0.muscache.com/im/users/2466/profile_...      East Downtown   \n",
       "2  https://a0.muscache.com/im/users/8028/profile_...      East Downtown   \n",
       "3  https://a0.muscache.com/im/users/8186/profile_...  SW Williamson Co.   \n",
       "\n",
       "   host_listings_count  host_total_listings_count  \\\n",
       "0                  3.0                        3.0   \n",
       "1                  3.0                        3.0   \n",
       "2                  1.0                        1.0   \n",
       "3                  1.0                        1.0   \n",
       "\n",
       "                                  host_verifications host_has_profile_pic  \\\n",
       "0   ['email', 'phone', 'facebook', 'reviews', 'kba']                    t   \n",
       "1   ['email', 'phone', 'facebook', 'reviews', 'kba']                    t   \n",
       "2               ['email', 'phone', 'reviews', 'kba']                    t   \n",
       "3  ['email', 'phone', 'reviews', 'jumio', 'govern...                    t   \n",
       "\n",
       "  host_identity_verified  \n",
       "0                      t  \n",
       "1                      t  \n",
       "2                      t  \n",
       "3                      t  "
      ]
     },
     "execution_count": 351,
     "metadata": {},
     "output_type": "execute_result"
    }
   ],
   "source": [
    "listings_df.iloc[:4,13:30]"
   ]
  },
  {
   "cell_type": "code",
   "execution_count": 352,
   "metadata": {},
   "outputs": [],
   "source": [
    "features_to_keep.extend(['host_id','host_since','host_response_time','host_response_rate','host_is_superhost','host_verifications','host_identity_verified'])"
   ]
  },
  {
   "cell_type": "markdown",
   "metadata": {},
   "source": [
    "We will keep host_id, host_since, response_time, host_response_rate, host_is_superhost, host_verifications."
   ]
  },
  {
   "cell_type": "code",
   "execution_count": 353,
   "metadata": {},
   "outputs": [
    {
     "data": {
      "text/html": [
       "<div>\n",
       "<style scoped>\n",
       "    .dataframe tbody tr th:only-of-type {\n",
       "        vertical-align: middle;\n",
       "    }\n",
       "\n",
       "    .dataframe tbody tr th {\n",
       "        vertical-align: top;\n",
       "    }\n",
       "\n",
       "    .dataframe thead th {\n",
       "        text-align: right;\n",
       "    }\n",
       "</style>\n",
       "<table border=\"1\" class=\"dataframe\">\n",
       "  <thead>\n",
       "    <tr style=\"text-align: right;\">\n",
       "      <th></th>\n",
       "      <th>street</th>\n",
       "      <th>neighbourhood</th>\n",
       "      <th>neighbourhood_cleansed</th>\n",
       "      <th>city</th>\n",
       "      <th>state</th>\n",
       "      <th>zipcode</th>\n",
       "      <th>market</th>\n",
       "      <th>smart_location</th>\n",
       "      <th>latitude</th>\n",
       "      <th>longitude</th>\n",
       "      <th>is_location_exact</th>\n",
       "    </tr>\n",
       "  </thead>\n",
       "  <tbody>\n",
       "    <tr>\n",
       "      <td>0</td>\n",
       "      <td>Austin, TX, United States</td>\n",
       "      <td>East Downtown</td>\n",
       "      <td>78702</td>\n",
       "      <td>Austin</td>\n",
       "      <td>TX</td>\n",
       "      <td>78702</td>\n",
       "      <td>Austin</td>\n",
       "      <td>Austin, TX</td>\n",
       "      <td>30.27750</td>\n",
       "      <td>-97.71398</td>\n",
       "      <td>f</td>\n",
       "    </tr>\n",
       "    <tr>\n",
       "      <td>1</td>\n",
       "      <td>Austin, TX, United States</td>\n",
       "      <td>East Downtown</td>\n",
       "      <td>78702</td>\n",
       "      <td>Austin</td>\n",
       "      <td>TX</td>\n",
       "      <td>78702</td>\n",
       "      <td>Austin</td>\n",
       "      <td>Austin, TX</td>\n",
       "      <td>30.27577</td>\n",
       "      <td>-97.71379</td>\n",
       "      <td>t</td>\n",
       "    </tr>\n",
       "    <tr>\n",
       "      <td>2</td>\n",
       "      <td>Austin, TX, United States</td>\n",
       "      <td>East Downtown</td>\n",
       "      <td>78702</td>\n",
       "      <td>Austin</td>\n",
       "      <td>TX</td>\n",
       "      <td>78702</td>\n",
       "      <td>Austin</td>\n",
       "      <td>Austin, TX</td>\n",
       "      <td>30.26112</td>\n",
       "      <td>-97.73448</td>\n",
       "      <td>t</td>\n",
       "    </tr>\n",
       "    <tr>\n",
       "      <td>3</td>\n",
       "      <td>Austin, TX, United States</td>\n",
       "      <td>SW Williamson Co.</td>\n",
       "      <td>78729</td>\n",
       "      <td>Austin</td>\n",
       "      <td>TX</td>\n",
       "      <td>78729</td>\n",
       "      <td>Austin</td>\n",
       "      <td>Austin, TX</td>\n",
       "      <td>30.45596</td>\n",
       "      <td>-97.78370</td>\n",
       "      <td>t</td>\n",
       "    </tr>\n",
       "  </tbody>\n",
       "</table>\n",
       "</div>"
      ],
      "text/plain": [
       "                      street      neighbourhood  neighbourhood_cleansed  \\\n",
       "0  Austin, TX, United States      East Downtown                   78702   \n",
       "1  Austin, TX, United States      East Downtown                   78702   \n",
       "2  Austin, TX, United States      East Downtown                   78702   \n",
       "3  Austin, TX, United States  SW Williamson Co.                   78729   \n",
       "\n",
       "     city state zipcode  market smart_location  latitude  longitude  \\\n",
       "0  Austin    TX   78702  Austin     Austin, TX  30.27750  -97.71398   \n",
       "1  Austin    TX   78702  Austin     Austin, TX  30.27577  -97.71379   \n",
       "2  Austin    TX   78702  Austin     Austin, TX  30.26112  -97.73448   \n",
       "3  Austin    TX   78729  Austin     Austin, TX  30.45596  -97.78370   \n",
       "\n",
       "  is_location_exact  \n",
       "0                 f  \n",
       "1                 t  \n",
       "2                 t  \n",
       "3                 t  "
      ]
     },
     "execution_count": 353,
     "metadata": {},
     "output_type": "execute_result"
    }
   ],
   "source": [
    "listings_df.iloc[:4,30:41]"
   ]
  },
  {
   "cell_type": "code",
   "execution_count": 354,
   "metadata": {},
   "outputs": [],
   "source": [
    "features_to_keep.extend(['zipcode','latitude','longitude'])"
   ]
  },
  {
   "cell_type": "markdown",
   "metadata": {},
   "source": [
    "We will keep zipcode, latitude, longitude. Since this study is about Austin, TX, the city, state, market are not very useful. The location can be uniquely determined by latitude and longtitude as well as zipcode"
   ]
  },
  {
   "cell_type": "code",
   "execution_count": 355,
   "metadata": {},
   "outputs": [
    {
     "data": {
      "text/html": [
       "<div>\n",
       "<style scoped>\n",
       "    .dataframe tbody tr th:only-of-type {\n",
       "        vertical-align: middle;\n",
       "    }\n",
       "\n",
       "    .dataframe tbody tr th {\n",
       "        vertical-align: top;\n",
       "    }\n",
       "\n",
       "    .dataframe thead th {\n",
       "        text-align: right;\n",
       "    }\n",
       "</style>\n",
       "<table border=\"1\" class=\"dataframe\">\n",
       "  <thead>\n",
       "    <tr style=\"text-align: right;\">\n",
       "      <th></th>\n",
       "      <th>property_type</th>\n",
       "      <th>room_type</th>\n",
       "      <th>accommodates</th>\n",
       "      <th>bathrooms</th>\n",
       "      <th>bedrooms</th>\n",
       "      <th>beds</th>\n",
       "      <th>bed_type</th>\n",
       "      <th>amenities</th>\n",
       "    </tr>\n",
       "  </thead>\n",
       "  <tbody>\n",
       "    <tr>\n",
       "      <td>0</td>\n",
       "      <td>House</td>\n",
       "      <td>Entire home/apt</td>\n",
       "      <td>4</td>\n",
       "      <td>2.0</td>\n",
       "      <td>2.0</td>\n",
       "      <td>2.0</td>\n",
       "      <td>Real Bed</td>\n",
       "      <td>{TV,\"Cable TV\",Internet,Wifi,\"Air conditioning...</td>\n",
       "    </tr>\n",
       "    <tr>\n",
       "      <td>1</td>\n",
       "      <td>House</td>\n",
       "      <td>Private room</td>\n",
       "      <td>2</td>\n",
       "      <td>1.0</td>\n",
       "      <td>1.0</td>\n",
       "      <td>2.0</td>\n",
       "      <td>Real Bed</td>\n",
       "      <td>{TV,\"Cable TV\",Internet,Wifi,\"Air conditioning...</td>\n",
       "    </tr>\n",
       "    <tr>\n",
       "      <td>2</td>\n",
       "      <td>Guesthouse</td>\n",
       "      <td>Entire home/apt</td>\n",
       "      <td>3</td>\n",
       "      <td>1.0</td>\n",
       "      <td>1.0</td>\n",
       "      <td>2.0</td>\n",
       "      <td>Real Bed</td>\n",
       "      <td>{TV,Wifi,\"Air conditioning\",Kitchen,\"Pets live...</td>\n",
       "    </tr>\n",
       "    <tr>\n",
       "      <td>3</td>\n",
       "      <td>House</td>\n",
       "      <td>Private room</td>\n",
       "      <td>2</td>\n",
       "      <td>1.0</td>\n",
       "      <td>1.0</td>\n",
       "      <td>1.0</td>\n",
       "      <td>Real Bed</td>\n",
       "      <td>{TV,\"Cable TV\",Internet,Wifi,\"Air conditioning...</td>\n",
       "    </tr>\n",
       "  </tbody>\n",
       "</table>\n",
       "</div>"
      ],
      "text/plain": [
       "  property_type        room_type  accommodates  bathrooms  bedrooms  beds  \\\n",
       "0         House  Entire home/apt             4        2.0       2.0   2.0   \n",
       "1         House     Private room             2        1.0       1.0   2.0   \n",
       "2    Guesthouse  Entire home/apt             3        1.0       1.0   2.0   \n",
       "3         House     Private room             2        1.0       1.0   1.0   \n",
       "\n",
       "   bed_type                                          amenities  \n",
       "0  Real Bed  {TV,\"Cable TV\",Internet,Wifi,\"Air conditioning...  \n",
       "1  Real Bed  {TV,\"Cable TV\",Internet,Wifi,\"Air conditioning...  \n",
       "2  Real Bed  {TV,Wifi,\"Air conditioning\",Kitchen,\"Pets live...  \n",
       "3  Real Bed  {TV,\"Cable TV\",Internet,Wifi,\"Air conditioning...  "
      ]
     },
     "execution_count": 355,
     "metadata": {},
     "output_type": "execute_result"
    }
   ],
   "source": [
    "listings_df.iloc[:4,41:49]"
   ]
  },
  {
   "cell_type": "code",
   "execution_count": 356,
   "metadata": {},
   "outputs": [],
   "source": [
    "features_to_keep.extend(['property_type','room_type','accommodates','bathrooms','bedrooms','beds','bed_type','amenities'])"
   ]
  },
  {
   "cell_type": "markdown",
   "metadata": {},
   "source": [
    "We will keep all columns "
   ]
  },
  {
   "cell_type": "code",
   "execution_count": 357,
   "metadata": {},
   "outputs": [
    {
     "data": {
      "text/html": [
       "<div>\n",
       "<style scoped>\n",
       "    .dataframe tbody tr th:only-of-type {\n",
       "        vertical-align: middle;\n",
       "    }\n",
       "\n",
       "    .dataframe tbody tr th {\n",
       "        vertical-align: top;\n",
       "    }\n",
       "\n",
       "    .dataframe thead th {\n",
       "        text-align: right;\n",
       "    }\n",
       "</style>\n",
       "<table border=\"1\" class=\"dataframe\">\n",
       "  <thead>\n",
       "    <tr style=\"text-align: right;\">\n",
       "      <th></th>\n",
       "      <th>price</th>\n",
       "      <th>security_deposit</th>\n",
       "      <th>cleaning_fee</th>\n",
       "      <th>guests_included</th>\n",
       "      <th>extra_people</th>\n",
       "      <th>minimum_nights</th>\n",
       "      <th>maximum_nights</th>\n",
       "      <th>minimum_minimum_nights</th>\n",
       "      <th>maximum_minimum_nights</th>\n",
       "      <th>minimum_maximum_nights</th>\n",
       "      <th>maximum_maximum_nights</th>\n",
       "      <th>minimum_nights_avg_ntm</th>\n",
       "      <th>maximum_nights_avg_ntm</th>\n",
       "    </tr>\n",
       "  </thead>\n",
       "  <tbody>\n",
       "    <tr>\n",
       "      <td>0</td>\n",
       "      <td>$225.00</td>\n",
       "      <td>$500.00</td>\n",
       "      <td>$100.00</td>\n",
       "      <td>4</td>\n",
       "      <td>$30.00</td>\n",
       "      <td>30</td>\n",
       "      <td>90</td>\n",
       "      <td>30</td>\n",
       "      <td>30</td>\n",
       "      <td>90</td>\n",
       "      <td>90</td>\n",
       "      <td>30.0</td>\n",
       "      <td>90.0</td>\n",
       "    </tr>\n",
       "    <tr>\n",
       "      <td>1</td>\n",
       "      <td>$100.00</td>\n",
       "      <td>$500.00</td>\n",
       "      <td>$75.00</td>\n",
       "      <td>2</td>\n",
       "      <td>$35.00</td>\n",
       "      <td>30</td>\n",
       "      <td>60</td>\n",
       "      <td>30</td>\n",
       "      <td>30</td>\n",
       "      <td>60</td>\n",
       "      <td>60</td>\n",
       "      <td>30.0</td>\n",
       "      <td>60.0</td>\n",
       "    </tr>\n",
       "    <tr>\n",
       "      <td>2</td>\n",
       "      <td>$95.00</td>\n",
       "      <td>$100.00</td>\n",
       "      <td>NaN</td>\n",
       "      <td>2</td>\n",
       "      <td>$45.00</td>\n",
       "      <td>2</td>\n",
       "      <td>90</td>\n",
       "      <td>2</td>\n",
       "      <td>2</td>\n",
       "      <td>90</td>\n",
       "      <td>90</td>\n",
       "      <td>2.0</td>\n",
       "      <td>90.0</td>\n",
       "    </tr>\n",
       "    <tr>\n",
       "      <td>3</td>\n",
       "      <td>$40.00</td>\n",
       "      <td>NaN</td>\n",
       "      <td>NaN</td>\n",
       "      <td>2</td>\n",
       "      <td>$0.00</td>\n",
       "      <td>1</td>\n",
       "      <td>14</td>\n",
       "      <td>1</td>\n",
       "      <td>1</td>\n",
       "      <td>14</td>\n",
       "      <td>14</td>\n",
       "      <td>1.0</td>\n",
       "      <td>14.0</td>\n",
       "    </tr>\n",
       "  </tbody>\n",
       "</table>\n",
       "</div>"
      ],
      "text/plain": [
       "     price security_deposit cleaning_fee  guests_included extra_people  \\\n",
       "0  $225.00          $500.00      $100.00                4       $30.00   \n",
       "1  $100.00          $500.00       $75.00                2       $35.00   \n",
       "2   $95.00          $100.00          NaN                2       $45.00   \n",
       "3   $40.00              NaN          NaN                2        $0.00   \n",
       "\n",
       "   minimum_nights  maximum_nights  minimum_minimum_nights  \\\n",
       "0              30              90                      30   \n",
       "1              30              60                      30   \n",
       "2               2              90                       2   \n",
       "3               1              14                       1   \n",
       "\n",
       "   maximum_minimum_nights  minimum_maximum_nights  maximum_maximum_nights  \\\n",
       "0                      30                      90                      90   \n",
       "1                      30                      60                      60   \n",
       "2                       2                      90                      90   \n",
       "3                       1                      14                      14   \n",
       "\n",
       "   minimum_nights_avg_ntm  maximum_nights_avg_ntm  \n",
       "0                    30.0                    90.0  \n",
       "1                    30.0                    60.0  \n",
       "2                     2.0                    90.0  \n",
       "3                     1.0                    14.0  "
      ]
     },
     "execution_count": 357,
     "metadata": {},
     "output_type": "execute_result"
    }
   ],
   "source": [
    "listings_df.iloc[:4,49:62]"
   ]
  },
  {
   "cell_type": "code",
   "execution_count": 358,
   "metadata": {},
   "outputs": [],
   "source": [
    "features_to_keep.extend(['price','security_deposit','cleaning_fee','guests_included'])"
   ]
  },
  {
   "cell_type": "markdown",
   "metadata": {},
   "source": [
    "We will keep all price, guests_included"
   ]
  },
  {
   "cell_type": "code",
   "execution_count": 359,
   "metadata": {},
   "outputs": [
    {
     "data": {
      "text/html": [
       "<div>\n",
       "<style scoped>\n",
       "    .dataframe tbody tr th:only-of-type {\n",
       "        vertical-align: middle;\n",
       "    }\n",
       "\n",
       "    .dataframe tbody tr th {\n",
       "        vertical-align: top;\n",
       "    }\n",
       "\n",
       "    .dataframe thead th {\n",
       "        text-align: right;\n",
       "    }\n",
       "</style>\n",
       "<table border=\"1\" class=\"dataframe\">\n",
       "  <thead>\n",
       "    <tr style=\"text-align: right;\">\n",
       "      <th></th>\n",
       "      <th>calendar_updated</th>\n",
       "      <th>availability_30</th>\n",
       "      <th>availability_60</th>\n",
       "      <th>availability_90</th>\n",
       "      <th>availability_365</th>\n",
       "      <th>number_of_reviews</th>\n",
       "      <th>number_of_reviews_ltm</th>\n",
       "      <th>first_review</th>\n",
       "      <th>last_review</th>\n",
       "      <th>review_scores_rating</th>\n",
       "      <th>review_scores_accuracy</th>\n",
       "      <th>review_scores_cleanliness</th>\n",
       "      <th>review_scores_checkin</th>\n",
       "      <th>review_scores_communication</th>\n",
       "      <th>review_scores_location</th>\n",
       "      <th>review_scores_value</th>\n",
       "    </tr>\n",
       "  </thead>\n",
       "  <tbody>\n",
       "    <tr>\n",
       "      <td>0</td>\n",
       "      <td>3 months ago</td>\n",
       "      <td>0</td>\n",
       "      <td>0</td>\n",
       "      <td>0</td>\n",
       "      <td>0</td>\n",
       "      <td>24</td>\n",
       "      <td>1</td>\n",
       "      <td>2009-03-17</td>\n",
       "      <td>2019-03-16</td>\n",
       "      <td>93.0</td>\n",
       "      <td>9.0</td>\n",
       "      <td>10.0</td>\n",
       "      <td>10.0</td>\n",
       "      <td>10.0</td>\n",
       "      <td>8.0</td>\n",
       "      <td>9.0</td>\n",
       "    </tr>\n",
       "    <tr>\n",
       "      <td>1</td>\n",
       "      <td>5 months ago</td>\n",
       "      <td>0</td>\n",
       "      <td>0</td>\n",
       "      <td>0</td>\n",
       "      <td>0</td>\n",
       "      <td>9</td>\n",
       "      <td>0</td>\n",
       "      <td>2009-03-19</td>\n",
       "      <td>2018-03-14</td>\n",
       "      <td>91.0</td>\n",
       "      <td>10.0</td>\n",
       "      <td>8.0</td>\n",
       "      <td>10.0</td>\n",
       "      <td>9.0</td>\n",
       "      <td>10.0</td>\n",
       "      <td>9.0</td>\n",
       "    </tr>\n",
       "    <tr>\n",
       "      <td>2</td>\n",
       "      <td>6 days ago</td>\n",
       "      <td>10</td>\n",
       "      <td>24</td>\n",
       "      <td>54</td>\n",
       "      <td>304</td>\n",
       "      <td>508</td>\n",
       "      <td>47</td>\n",
       "      <td>2009-03-08</td>\n",
       "      <td>2019-10-28</td>\n",
       "      <td>96.0</td>\n",
       "      <td>10.0</td>\n",
       "      <td>10.0</td>\n",
       "      <td>10.0</td>\n",
       "      <td>10.0</td>\n",
       "      <td>10.0</td>\n",
       "      <td>10.0</td>\n",
       "    </tr>\n",
       "    <tr>\n",
       "      <td>3</td>\n",
       "      <td>2 days ago</td>\n",
       "      <td>0</td>\n",
       "      <td>3</td>\n",
       "      <td>13</td>\n",
       "      <td>13</td>\n",
       "      <td>257</td>\n",
       "      <td>19</td>\n",
       "      <td>2010-04-10</td>\n",
       "      <td>2019-11-03</td>\n",
       "      <td>98.0</td>\n",
       "      <td>10.0</td>\n",
       "      <td>10.0</td>\n",
       "      <td>10.0</td>\n",
       "      <td>10.0</td>\n",
       "      <td>10.0</td>\n",
       "      <td>10.0</td>\n",
       "    </tr>\n",
       "  </tbody>\n",
       "</table>\n",
       "</div>"
      ],
      "text/plain": [
       "  calendar_updated  availability_30  availability_60  availability_90  \\\n",
       "0     3 months ago                0                0                0   \n",
       "1     5 months ago                0                0                0   \n",
       "2       6 days ago               10               24               54   \n",
       "3       2 days ago                0                3               13   \n",
       "\n",
       "   availability_365  number_of_reviews  number_of_reviews_ltm first_review  \\\n",
       "0                 0                 24                      1   2009-03-17   \n",
       "1                 0                  9                      0   2009-03-19   \n",
       "2               304                508                     47   2009-03-08   \n",
       "3                13                257                     19   2010-04-10   \n",
       "\n",
       "  last_review  review_scores_rating  review_scores_accuracy  \\\n",
       "0  2019-03-16                  93.0                     9.0   \n",
       "1  2018-03-14                  91.0                    10.0   \n",
       "2  2019-10-28                  96.0                    10.0   \n",
       "3  2019-11-03                  98.0                    10.0   \n",
       "\n",
       "   review_scores_cleanliness  review_scores_checkin  \\\n",
       "0                       10.0                   10.0   \n",
       "1                        8.0                   10.0   \n",
       "2                       10.0                   10.0   \n",
       "3                       10.0                   10.0   \n",
       "\n",
       "   review_scores_communication  review_scores_location  review_scores_value  \n",
       "0                         10.0                     8.0                  9.0  \n",
       "1                          9.0                    10.0                  9.0  \n",
       "2                         10.0                    10.0                 10.0  \n",
       "3                         10.0                    10.0                 10.0  "
      ]
     },
     "execution_count": 359,
     "metadata": {},
     "output_type": "execute_result"
    }
   ],
   "source": [
    "listings_df.iloc[:4,62:78]"
   ]
  },
  {
   "cell_type": "code",
   "execution_count": 360,
   "metadata": {},
   "outputs": [],
   "source": [
    "features_to_keep.extend(['number_of_reviews','availability_30','availability_60','availability_90','availability_365','review_scores_rating','review_scores_accuracy','review_scores_cleanliness','review_scores_checkin','review_scores_communication','review_scores_location','review_scores_value'])"
   ]
  },
  {
   "cell_type": "markdown",
   "metadata": {},
   "source": [
    "We will keep number_of_reviews and all review_scores"
   ]
  },
  {
   "cell_type": "code",
   "execution_count": 361,
   "metadata": {},
   "outputs": [
    {
     "data": {
      "text/html": [
       "<div>\n",
       "<style scoped>\n",
       "    .dataframe tbody tr th:only-of-type {\n",
       "        vertical-align: middle;\n",
       "    }\n",
       "\n",
       "    .dataframe tbody tr th {\n",
       "        vertical-align: top;\n",
       "    }\n",
       "\n",
       "    .dataframe thead th {\n",
       "        text-align: right;\n",
       "    }\n",
       "</style>\n",
       "<table border=\"1\" class=\"dataframe\">\n",
       "  <thead>\n",
       "    <tr style=\"text-align: right;\">\n",
       "      <th></th>\n",
       "      <th>instant_bookable</th>\n",
       "      <th>cancellation_policy</th>\n",
       "      <th>require_guest_profile_picture</th>\n",
       "      <th>require_guest_phone_verification</th>\n",
       "      <th>calculated_host_listings_count</th>\n",
       "      <th>calculated_host_listings_count_entire_homes</th>\n",
       "      <th>calculated_host_listings_count_private_rooms</th>\n",
       "      <th>calculated_host_listings_count_shared_rooms</th>\n",
       "      <th>reviews_per_month</th>\n",
       "    </tr>\n",
       "  </thead>\n",
       "  <tbody>\n",
       "    <tr>\n",
       "      <td>0</td>\n",
       "      <td>f</td>\n",
       "      <td>strict_14_with_grace_period</td>\n",
       "      <td>f</td>\n",
       "      <td>f</td>\n",
       "      <td>3</td>\n",
       "      <td>2</td>\n",
       "      <td>1</td>\n",
       "      <td>0</td>\n",
       "      <td>0.18</td>\n",
       "    </tr>\n",
       "    <tr>\n",
       "      <td>1</td>\n",
       "      <td>f</td>\n",
       "      <td>strict_14_with_grace_period</td>\n",
       "      <td>f</td>\n",
       "      <td>f</td>\n",
       "      <td>3</td>\n",
       "      <td>2</td>\n",
       "      <td>1</td>\n",
       "      <td>0</td>\n",
       "      <td>0.07</td>\n",
       "    </tr>\n",
       "    <tr>\n",
       "      <td>2</td>\n",
       "      <td>f</td>\n",
       "      <td>strict_14_with_grace_period</td>\n",
       "      <td>f</td>\n",
       "      <td>t</td>\n",
       "      <td>1</td>\n",
       "      <td>1</td>\n",
       "      <td>0</td>\n",
       "      <td>0</td>\n",
       "      <td>3.90</td>\n",
       "    </tr>\n",
       "    <tr>\n",
       "      <td>3</td>\n",
       "      <td>f</td>\n",
       "      <td>moderate</td>\n",
       "      <td>t</td>\n",
       "      <td>t</td>\n",
       "      <td>1</td>\n",
       "      <td>0</td>\n",
       "      <td>1</td>\n",
       "      <td>0</td>\n",
       "      <td>2.20</td>\n",
       "    </tr>\n",
       "  </tbody>\n",
       "</table>\n",
       "</div>"
      ],
      "text/plain": [
       "  instant_bookable          cancellation_policy require_guest_profile_picture  \\\n",
       "0                f  strict_14_with_grace_period                             f   \n",
       "1                f  strict_14_with_grace_period                             f   \n",
       "2                f  strict_14_with_grace_period                             f   \n",
       "3                f                     moderate                             t   \n",
       "\n",
       "  require_guest_phone_verification  calculated_host_listings_count  \\\n",
       "0                                f                               3   \n",
       "1                                f                               3   \n",
       "2                                t                               1   \n",
       "3                                t                               1   \n",
       "\n",
       "   calculated_host_listings_count_entire_homes  \\\n",
       "0                                            2   \n",
       "1                                            2   \n",
       "2                                            1   \n",
       "3                                            0   \n",
       "\n",
       "   calculated_host_listings_count_private_rooms  \\\n",
       "0                                             1   \n",
       "1                                             1   \n",
       "2                                             0   \n",
       "3                                             1   \n",
       "\n",
       "   calculated_host_listings_count_shared_rooms  reviews_per_month  \n",
       "0                                            0               0.18  \n",
       "1                                            0               0.07  \n",
       "2                                            0               3.90  \n",
       "3                                            0               2.20  "
      ]
     },
     "execution_count": 361,
     "metadata": {},
     "output_type": "execute_result"
    }
   ],
   "source": [
    "listings_df.iloc[:4,78:]"
   ]
  },
  {
   "cell_type": "code",
   "execution_count": 362,
   "metadata": {},
   "outputs": [],
   "source": [
    "features_to_keep.extend(['instant_bookable','cancellation_policy','reviews_per_month'])"
   ]
  },
  {
   "cell_type": "markdown",
   "metadata": {},
   "source": [
    "We will keep instant_bookable, cancellation_policy and reviews_per_month"
   ]
  },
  {
   "cell_type": "markdown",
   "metadata": {},
   "source": [
    "#### Now we start to drop features that are not useful"
   ]
  },
  {
   "cell_type": "code",
   "execution_count": 363,
   "metadata": {},
   "outputs": [
    {
     "data": {
      "text/plain": [
       "(11250, 87)"
      ]
     },
     "execution_count": 363,
     "metadata": {},
     "output_type": "execute_result"
    }
   ],
   "source": [
    "listings_df.shape # before drop"
   ]
  },
  {
   "cell_type": "code",
   "execution_count": 364,
   "metadata": {},
   "outputs": [
    {
     "data": {
      "text/plain": [
       "(11250, 38)"
      ]
     },
     "execution_count": 364,
     "metadata": {},
     "output_type": "execute_result"
    }
   ],
   "source": [
    "listings_df = listings_df[features_to_keep] # after drop\n",
    "listings_df.shape"
   ]
  },
  {
   "cell_type": "code",
   "execution_count": 365,
   "metadata": {},
   "outputs": [
    {
     "data": {
      "text/plain": [
       "(11250, 38)"
      ]
     },
     "execution_count": 365,
     "metadata": {},
     "output_type": "execute_result"
    }
   ],
   "source": [
    "listings_df.drop_duplicates(subset = ['id'], inplace=True) # drop any duplicate 'id'\n",
    "listings_df.shape  # so all 11250 rows have unique id, which means unique property"
   ]
  },
  {
   "cell_type": "code",
   "execution_count": 366,
   "metadata": {},
   "outputs": [
    {
     "name": "stdout",
     "output_type": "stream",
     "text": [
      "<class 'pandas.core.frame.DataFrame'>\n",
      "Int64Index: 11250 entries, 0 to 11249\n",
      "Data columns (total 38 columns):\n",
      "id                             11250 non-null int64\n",
      "host_id                        11250 non-null int64\n",
      "host_since                     11247 non-null object\n",
      "host_response_time             7939 non-null object\n",
      "host_response_rate             7939 non-null object\n",
      "host_is_superhost              11247 non-null object\n",
      "host_verifications             11250 non-null object\n",
      "host_identity_verified         11247 non-null object\n",
      "zipcode                        11157 non-null object\n",
      "latitude                       11250 non-null float64\n",
      "longitude                      11250 non-null float64\n",
      "property_type                  11250 non-null object\n",
      "room_type                      11250 non-null object\n",
      "accommodates                   11250 non-null int64\n",
      "bathrooms                      11235 non-null float64\n",
      "bedrooms                       11245 non-null float64\n",
      "beds                           11238 non-null float64\n",
      "bed_type                       11250 non-null object\n",
      "amenities                      11250 non-null object\n",
      "price                          11250 non-null object\n",
      "security_deposit               8153 non-null object\n",
      "cleaning_fee                   9154 non-null object\n",
      "guests_included                11250 non-null int64\n",
      "number_of_reviews              11250 non-null int64\n",
      "availability_30                11250 non-null int64\n",
      "availability_60                11250 non-null int64\n",
      "availability_90                11250 non-null int64\n",
      "availability_365               11250 non-null int64\n",
      "review_scores_rating           8927 non-null float64\n",
      "review_scores_accuracy         8922 non-null float64\n",
      "review_scores_cleanliness      8922 non-null float64\n",
      "review_scores_checkin          8921 non-null float64\n",
      "review_scores_communication    8921 non-null float64\n",
      "review_scores_location         8916 non-null float64\n",
      "review_scores_value            8917 non-null float64\n",
      "instant_bookable               11250 non-null object\n",
      "cancellation_policy            11250 non-null object\n",
      "reviews_per_month              9037 non-null float64\n",
      "dtypes: float64(13), int64(9), object(16)\n",
      "memory usage: 3.3+ MB\n"
     ]
    }
   ],
   "source": [
    "listings_df.info()"
   ]
  },
  {
   "cell_type": "markdown",
   "metadata": {},
   "source": [
    "### Now let's take a closer look at these features\n",
    "\n",
    "#### how many listings does each host have\n"
   ]
  },
  {
   "cell_type": "code",
   "execution_count": 367,
   "metadata": {},
   "outputs": [
    {
     "data": {
      "text/plain": [
       "host_id\n",
       "104309976    165\n",
       "219500569    140\n",
       "4962900       84\n",
       "114353388     82\n",
       "8167447       77\n",
       "118565935     70\n",
       "109638288     68\n",
       "1739801       49\n",
       "194953121     41\n",
       "138398089     35\n",
       "Name: id, dtype: int64"
      ]
     },
     "execution_count": 367,
     "metadata": {},
     "output_type": "execute_result"
    }
   ],
   "source": [
    "host_listings = listings_df.groupby('host_id').count()['id'].sort_values(ascending=False) \n",
    "host_listings.head(10)"
   ]
  },
  {
   "cell_type": "markdown",
   "metadata": {},
   "source": [
    "#### Wow, it is quite impressive hosts can have so many properties to list on airbnb. Let's visualize this"
   ]
  },
  {
   "cell_type": "code",
   "execution_count": 368,
   "metadata": {},
   "outputs": [
    {
     "data": {
      "text/plain": [
       "<matplotlib.axes._subplots.AxesSubplot at 0x1b42b941c48>"
      ]
     },
     "execution_count": 368,
     "metadata": {},
     "output_type": "execute_result"
    },
    {
     "data": {
      "image/png": "[encoded data removed]",
      "text/plain": [
       "<Figure size 864x648 with 1 Axes>"
      ]
     },
     "metadata": {
      "needs_background": "light"
     },
     "output_type": "display_data"
    }
   ],
   "source": [
    "plt.figure(figsize=(12,9))\n",
    "plt.title('Top 10 hosts with most listings')\n",
    "plt.xlabel('Host id')\n",
    "plt.ylabel('Number of listings')\n",
    "host_listings.head(10).plot(kind ='bar')"
   ]
  },
  {
   "cell_type": "markdown",
   "metadata": {},
   "source": [
    "#### How many hosts have more than 1 listings?"
   ]
  },
  {
   "cell_type": "code",
   "execution_count": 369,
   "metadata": {},
   "outputs": [
    {
     "data": {
      "text/plain": [
       "1279"
      ]
     },
     "execution_count": 369,
     "metadata": {},
     "output_type": "execute_result"
    }
   ],
   "source": [
    "len(host_listings[host_listings>1])"
   ]
  },
  {
   "cell_type": "markdown",
   "metadata": {},
   "source": [
    "#### how many unique host do we have?"
   ]
  },
  {
   "cell_type": "code",
   "execution_count": 370,
   "metadata": {},
   "outputs": [
    {
     "data": {
      "text/plain": [
       "7587"
      ]
     },
     "execution_count": 370,
     "metadata": {},
     "output_type": "execute_result"
    }
   ],
   "source": [
    "len(listings_df['host_id'].unique())"
   ]
  },
  {
   "cell_type": "markdown",
   "metadata": {},
   "source": [
    "It looks like 1279/7587 = 17% hosts have more than 1 listing property on Airbnb<br>\n",
    "#### Since when do they become host?"
   ]
  },
  {
   "cell_type": "code",
   "execution_count": 371,
   "metadata": {},
   "outputs": [],
   "source": [
    "listings_df['host_since'] = pd.to_datetime(listings_df['host_since'])"
   ]
  },
  {
   "cell_type": "code",
   "execution_count": 372,
   "metadata": {},
   "outputs": [
    {
     "data": {
      "text/plain": [
       "<matplotlib.axes._subplots.AxesSubplot at 0x1b419fbec88>"
      ]
     },
     "execution_count": 372,
     "metadata": {},
     "output_type": "execute_result"
    },
    {
     "data": {
      "image/png": "[encoded data removed]",
      "text/plain": [
       "<Figure size 864x648 with 1 Axes>"
      ]
     },
     "metadata": {
      "needs_background": "light"
     },
     "output_type": "display_data"
    }
   ],
   "source": [
    "host_since = listings_df['host_since'].dropna()\n",
    "host_year = host_since.apply(lambda x: x.year)\n",
    "plt.figure(figsize=(12,9))\n",
    "plt.title('Number of hosts joining Austin Airbnb per year')\n",
    "plt.xlabel('Year')\n",
    "plt.ylabel('Number of hosts')\n",
    "host_year.value_counts().sort_index().plot(kind='bar')"
   ]
  },
  {
   "cell_type": "markdown",
   "metadata": {},
   "source": [
    "So it seems more people joined airbnb each year to become a host until 2015, after which new host each year starts to decline, market is saturated?\n",
    "\n",
    "#### How responsive are these hosts?"
   ]
  },
  {
   "cell_type": "code",
   "execution_count": 373,
   "metadata": {},
   "outputs": [
    {
     "data": {
      "text/plain": [
       "<matplotlib.axes._subplots.AxesSubplot at 0x1b42b6f7048>"
      ]
     },
     "execution_count": 373,
     "metadata": {},
     "output_type": "execute_result"
    },
    {
     "data": {
      "image/png": "[encoded data removed]",
      "text/plain": [
       "<Figure size 864x648 with 1 Axes>"
      ]
     },
     "metadata": {
      "needs_background": "light"
     },
     "output_type": "display_data"
    }
   ],
   "source": [
    "plt.figure(figsize=(12,9))\n",
    "plt.title('Response time')\n",
    "plt.xlabel('Host response time')\n",
    "plt.ylabel('Number of hosts')\n",
    "listings_df['host_response_time'].value_counts().plot(kind='bar',rot=0)"
   ]
  },
  {
   "cell_type": "code",
   "execution_count": 374,
   "metadata": {},
   "outputs": [
    {
     "data": {
      "text/plain": [
       "<matplotlib.axes._subplots.AxesSubplot at 0x1b429dfd288>"
      ]
     },
     "execution_count": 374,
     "metadata": {},
     "output_type": "execute_result"
    },
    {
     "data": {
      "image/png": "[encoded data removed]",
      "text/plain": [
       "<Figure size 864x648 with 1 Axes>"
      ]
     },
     "metadata": {
      "needs_background": "light"
     },
     "output_type": "display_data"
    }
   ],
   "source": [
    "plt.figure(figsize=(12,9))\n",
    "plt.title('Response rate')\n",
    "plt.xlabel('Host response rate')\n",
    "plt.ylabel('Number of hosts')\n",
    "plt.yscale('log')\n",
    "host_response_rate = listings_df['host_response_rate'].dropna().apply(lambda x: int(x[0:-1])//10*10)\n",
    "host_response_rate.value_counts().sort_index(ascending=False).plot(kind='bar',rot=0)"
   ]
  },
  {
   "cell_type": "markdown",
   "metadata": {},
   "source": [
    "Not suprisingly, most host are very responsive. The response time is mostly within an hour, and response rate is close to 100%, note that the y axis is log-scale for respons rate plot,\n",
    "\n",
    "#### How many hosts are superhosts?"
   ]
  },
  {
   "cell_type": "code",
   "execution_count": 375,
   "metadata": {
    "scrolled": false
   },
   "outputs": [
    {
     "data": {
      "text/plain": [
       "f    0.642127\n",
       "t    0.357873\n",
       "Name: host_is_superhost, dtype: float64"
      ]
     },
     "execution_count": 375,
     "metadata": {},
     "output_type": "execute_result"
    },
    {
     "data": {
      "image/png": "[encoded data removed]",
      "text/plain": [
       "<Figure size 864x648 with 1 Axes>"
      ]
     },
     "metadata": {
      "needs_background": "light"
     },
     "output_type": "display_data"
    }
   ],
   "source": [
    "plt.figure(figsize=(12,9))\n",
    "plt.title('Superhost percentage')\n",
    "plt.xlabel('Is superhost?')\n",
    "plt.ylabel('Percentage')\n",
    "listings_df['host_is_superhost'].value_counts(normalize = True).plot(kind='bar',rot=0)\n",
    "listings_df['host_is_superhost'].value_counts(normalize = True)"
   ]
  },
  {
   "cell_type": "markdown",
   "metadata": {},
   "source": [
    "About 36% hosts are superhosts. What is a superhost anyway?\n",
    "\n",
    "Answers from airbnb (https://www.airbnb.com/help/article/828/what-is-a-superhost)<br>\n",
    "   _What is a Superhost?<br>\n",
    "    Superhosts are experienced hosts who provide a shining example for other hosts, and extraordinary experiences for their guests.<br>\n",
    "    Once a host reaches Superhost status, a badge superhost badge will automatically appear on their listing and profile to help you identify them.<br>\n",
    "    We check Superhosts’ activity four times a year, to ensure that the program highlights the people who are most dedicated to providing outstanding hospitality.<br>_\n",
    "    \n",
    "#### How many hosts are verified?\n"
   ]
  },
  {
   "cell_type": "code",
   "execution_count": 376,
   "metadata": {},
   "outputs": [
    {
     "data": {
      "text/plain": [
       "f    0.503601\n",
       "t    0.496399\n",
       "Name: host_identity_verified, dtype: float64"
      ]
     },
     "execution_count": 376,
     "metadata": {},
     "output_type": "execute_result"
    },
    {
     "data": {
      "image/png": "[encoded data removed]",
      "text/plain": [
       "<Figure size 864x648 with 1 Axes>"
      ]
     },
     "metadata": {
      "needs_background": "light"
     },
     "output_type": "display_data"
    }
   ],
   "source": [
    "plt.figure(figsize=(12,9))\n",
    "plt.title('Host identity verification percentage')\n",
    "plt.xlabel('Is host verified?')\n",
    "plt.ylabel('Percentage')\n",
    "listings_df['host_identity_verified'].value_counts(normalize = True).plot(kind='bar',rot=0)\n",
    "listings_df['host_identity_verified'].value_counts(normalize = True)"
   ]
  },
  {
   "cell_type": "markdown",
   "metadata": {},
   "source": [
    "About half of the host are verifed. By what methods?"
   ]
  },
  {
   "cell_type": "code",
   "execution_count": 377,
   "metadata": {},
   "outputs": [
    {
     "name": "stdout",
     "output_type": "stream",
     "text": [
      "Total verification methods =   20\n",
      "host verification method include:  sent_id, jumio, weibo, amex, phone, email, sesame_offline, manual_online, google, selfie, facebook, photographer, work_email, manual_offline, offline_government_id, identity_manual, government_id, reviews, kba, sesame\n"
     ]
    }
   ],
   "source": [
    "host_veri_set = (set(listings_df['host_verifications'].dropna()))\n",
    "uniq_veri = set()\n",
    "[uniq_veri.update(set(eval(i))) for i in host_veri_set if eval(i)]\n",
    "print('Total verification methods =  ', len(uniq_veri))\n",
    "print('host verification method include: ', ', '.join(uniq_veri))"
   ]
  },
  {
   "cell_type": "code",
   "execution_count": 378,
   "metadata": {},
   "outputs": [
    {
     "name": "stdout",
     "output_type": "stream",
     "text": [
      "<class 'pandas.core.frame.DataFrame'>\n",
      "Int64Index: 11250 entries, 0 to 11249\n",
      "Data columns (total 38 columns):\n",
      "id                             11250 non-null int64\n",
      "host_id                        11250 non-null int64\n",
      "host_since                     11247 non-null datetime64[ns]\n",
      "host_response_time             7939 non-null object\n",
      "host_response_rate             7939 non-null object\n",
      "host_is_superhost              11247 non-null object\n",
      "host_verifications             11250 non-null object\n",
      "host_identity_verified         11247 non-null object\n",
      "zipcode                        11157 non-null object\n",
      "latitude                       11250 non-null float64\n",
      "longitude                      11250 non-null float64\n",
      "property_type                  11250 non-null object\n",
      "room_type                      11250 non-null object\n",
      "accommodates                   11250 non-null int64\n",
      "bathrooms                      11235 non-null float64\n",
      "bedrooms                       11245 non-null float64\n",
      "beds                           11238 non-null float64\n",
      "bed_type                       11250 non-null object\n",
      "amenities                      11250 non-null object\n",
      "price                          11250 non-null object\n",
      "security_deposit               8153 non-null object\n",
      "cleaning_fee                   9154 non-null object\n",
      "guests_included                11250 non-null int64\n",
      "number_of_reviews              11250 non-null int64\n",
      "availability_30                11250 non-null int64\n",
      "availability_60                11250 non-null int64\n",
      "availability_90                11250 non-null int64\n",
      "availability_365               11250 non-null int64\n",
      "review_scores_rating           8927 non-null float64\n",
      "review_scores_accuracy         8922 non-null float64\n",
      "review_scores_cleanliness      8922 non-null float64\n",
      "review_scores_checkin          8921 non-null float64\n",
      "review_scores_communication    8921 non-null float64\n",
      "review_scores_location         8916 non-null float64\n",
      "review_scores_value            8917 non-null float64\n",
      "instant_bookable               11250 non-null object\n",
      "cancellation_policy            11250 non-null object\n",
      "reviews_per_month              9037 non-null float64\n",
      "dtypes: datetime64[ns](1), float64(13), int64(9), object(15)\n",
      "memory usage: 3.3+ MB\n"
     ]
    }
   ],
   "source": [
    "listings_df.info()"
   ]
  },
  {
   "cell_type": "code",
   "execution_count": 382,
   "metadata": {},
   "outputs": [
    {
     "data": {
      "text/plain": [
       "<matplotlib.axes._subplots.AxesSubplot at 0x1b426973048>"
      ]
     },
     "execution_count": 382,
     "metadata": {},
     "output_type": "execute_result"
    },
    {
     "data": {
      "text/plain": [
       "<Figure size 864x648 with 0 Axes>"
      ]
     },
     "metadata": {},
     "output_type": "display_data"
    },
    {
     "data": {
      "image/png": "[encoded data removed]",
      "text/plain": [
       "<Figure size 432x288 with 1 Axes>"
      ]
     },
     "metadata": {
      "needs_background": "light"
     },
     "output_type": "display_data"
    }
   ],
   "source": [
    "plt.figure(figsize=(12,9))\n",
    "listings_df.plot(x='latitude',y='longitude',kind='scatter',s=0.3)"
   ]
  },
  {
   "cell_type": "code",
   "execution_count": 384,
   "metadata": {},
   "outputs": [
    {
     "ename": "ModuleNotFoundError",
     "evalue": "No module named 'geopandas'",
     "output_type": "error",
     "traceback": [
      "\u001b[1;31m---------------------------------------------------------------------------\u001b[0m",
      "\u001b[1;31mModuleNotFoundError\u001b[0m                       Traceback (most recent call last)",
      "\u001b[1;32m<ipython-input-384-e9b36756563c>\u001b[0m in \u001b[0;36m<module>\u001b[1;34m\u001b[0m\n\u001b[1;32m----> 1\u001b[1;33m \u001b[1;32mimport\u001b[0m \u001b[0mgeopandas\u001b[0m \u001b[1;32mas\u001b[0m \u001b[0mgpd\u001b[0m\u001b[1;33m\u001b[0m\u001b[1;33m\u001b[0m\u001b[0m\n\u001b[0m\u001b[0;32m      2\u001b[0m \u001b[0maustin_map\u001b[0m \u001b[1;33m=\u001b[0m \u001b[0mgpd\u001b[0m\u001b[1;33m.\u001b[0m\u001b[0mread_file\u001b[0m\u001b[1;33m(\u001b[0m\u001b[1;34m\"neighbourhoods.geojson\"\u001b[0m\u001b[1;33m)\u001b[0m\u001b[1;33m\u001b[0m\u001b[1;33m\u001b[0m\u001b[0m\n\u001b[0;32m      3\u001b[0m \u001b[1;31m#austin_map[\"zipcode\"] = austin_map[\"zipcode\"].astype(int)\u001b[0m\u001b[1;33m\u001b[0m\u001b[1;33m\u001b[0m\u001b[1;33m\u001b[0m\u001b[0m\n\u001b[0;32m      4\u001b[0m \u001b[1;33m\u001b[0m\u001b[0m\n\u001b[0;32m      5\u001b[0m \u001b[0mprint\u001b[0m\u001b[1;33m(\u001b[0m\u001b[0mtype\u001b[0m\u001b[1;33m(\u001b[0m\u001b[0maustin_map\u001b[0m\u001b[1;33m)\u001b[0m\u001b[1;33m)\u001b[0m\u001b[1;33m\u001b[0m\u001b[1;33m\u001b[0m\u001b[0m\n",
      "\u001b[1;31mModuleNotFoundError\u001b[0m: No module named 'geopandas'"
     ]
    }
   ],
   "source": [
    "import geopandas as gpd\n",
    "austin_map = gpd.read_file(\"neighbourhoods.geojson\")\n",
    "#austin_map[\"zipcode\"] = austin_map[\"zipcode\"].astype(int)\n",
    "\n",
    "print(type(austin_map))\n",
    "display(austin_map.head())"
   ]
  }
 ],
 "metadata": {
  "kernelspec": {
   "display_name": "Python 3",
   "language": "python",
   "name": "python3"
  },
  "language_info": {
   "codemirror_mode": {
    "name": "ipython",
    "version": 3
   },
   "file_extension": ".py",
   "mimetype": "text/x-python",
   "name": "python",
   "nbconvert_exporter": "python",
   "pygments_lexer": "ipython3",
   "version": "3.7.4"
  }
 },
 "nbformat": 4,
 "nbformat_minor": 1
}
